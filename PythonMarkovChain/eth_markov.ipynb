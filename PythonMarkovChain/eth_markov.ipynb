{
  "nbformat": 4,
  "nbformat_minor": 0,
  "metadata": {
    "colab": {
      "name": "eth_markov.ipynb",
      "provenance": [],
      "collapsed_sections": [],
      "mount_file_id": "1OeiAddPTHIjwNVtPer2yyYJAp9ckSywQ",
      "authorship_tag": "ABX9TyM7fDj3WlbSsjKxwe76VDWu",
      "include_colab_link": true
    },
    "kernelspec": {
      "display_name": "Python 3",
      "name": "python3"
    },
    "language_info": {
      "name": "python"
    }
  },
  "cells": [
    {
      "cell_type": "markdown",
      "metadata": {
        "id": "view-in-github",
        "colab_type": "text"
      },
      "source": [
        "<a href=\"https://colab.research.google.com/github/dansten/Portfolio/blob/main/eth_markov.ipynb\" target=\"_parent\"><img src=\"https://colab.research.google.com/assets/colab-badge.svg\" alt=\"Open In Colab\"/></a>"
      ]
    },
    {
      "cell_type": "markdown",
      "metadata": {
        "id": "pWnRTeUzf6OA"
      },
      "source": [
        "## Predicting and Simulating the price of Ethereum using discrete markov chains.\n",
        "In this project, I predict the price changes of Ethereum by using discrete Markov chains. I try two different Markov chains; one where the states only consider one day in a row, and another one considers three days in a row.\n",
        "Finally, I take a look at the probability distributions for the ETH-price changes, and based on that, I simulate the price for the 30 coming days."
      ]
    },
    {
      "cell_type": "code",
      "metadata": {
        "id": "SuJd_Ij_gZsf"
      },
      "source": [
        "#!pip install yfinance"
      ],
      "execution_count": 367,
      "outputs": []
    },
    {
      "cell_type": "markdown",
      "metadata": {
        "id": "fkZaRd0AxLyI"
      },
      "source": [
        "### Part 1 - Data preperation"
      ]
    },
    {
      "cell_type": "code",
      "metadata": {
        "colab": {
          "base_uri": "https://localhost:8080/",
          "height": 235
        },
        "id": "d_ZQlisH-K77",
        "outputId": "277695c6-64ba-4744-d05d-dfa0c1309865"
      },
      "source": [
        "import pandas as pd\n",
        "from datetime import datetime, timedelta\n",
        "import matplotlib.pyplot as plt\n",
        "import random\n",
        "import numpy as np\n",
        "import yfinance as yf\n",
        "\n",
        "DAYS = 30 \n",
        "random.seed(123)\n",
        "\n",
        "eth = yf.Ticker(\"ETH-USD\")\n",
        "df = eth.history(period=\"max\")\n",
        "df.head()"
      ],
      "execution_count": 368,
      "outputs": [
        {
          "output_type": "execute_result",
          "data": {
            "text/html": [
              "<div>\n",
              "<style scoped>\n",
              "    .dataframe tbody tr th:only-of-type {\n",
              "        vertical-align: middle;\n",
              "    }\n",
              "\n",
              "    .dataframe tbody tr th {\n",
              "        vertical-align: top;\n",
              "    }\n",
              "\n",
              "    .dataframe thead th {\n",
              "        text-align: right;\n",
              "    }\n",
              "</style>\n",
              "<table border=\"1\" class=\"dataframe\">\n",
              "  <thead>\n",
              "    <tr style=\"text-align: right;\">\n",
              "      <th></th>\n",
              "      <th>Open</th>\n",
              "      <th>High</th>\n",
              "      <th>Low</th>\n",
              "      <th>Close</th>\n",
              "      <th>Volume</th>\n",
              "      <th>Dividends</th>\n",
              "      <th>Stock Splits</th>\n",
              "    </tr>\n",
              "    <tr>\n",
              "      <th>Date</th>\n",
              "      <th></th>\n",
              "      <th></th>\n",
              "      <th></th>\n",
              "      <th></th>\n",
              "      <th></th>\n",
              "      <th></th>\n",
              "      <th></th>\n",
              "    </tr>\n",
              "  </thead>\n",
              "  <tbody>\n",
              "    <tr>\n",
              "      <th>2015-08-07</th>\n",
              "      <td>2.831620</td>\n",
              "      <td>3.536610</td>\n",
              "      <td>2.521120</td>\n",
              "      <td>2.772120</td>\n",
              "      <td>164329</td>\n",
              "      <td>0</td>\n",
              "      <td>0</td>\n",
              "    </tr>\n",
              "    <tr>\n",
              "      <th>2015-08-08</th>\n",
              "      <td>2.793760</td>\n",
              "      <td>2.798810</td>\n",
              "      <td>0.714725</td>\n",
              "      <td>0.753325</td>\n",
              "      <td>674188</td>\n",
              "      <td>0</td>\n",
              "      <td>0</td>\n",
              "    </tr>\n",
              "    <tr>\n",
              "      <th>2015-08-09</th>\n",
              "      <td>0.706136</td>\n",
              "      <td>0.879810</td>\n",
              "      <td>0.629191</td>\n",
              "      <td>0.701897</td>\n",
              "      <td>532170</td>\n",
              "      <td>0</td>\n",
              "      <td>0</td>\n",
              "    </tr>\n",
              "    <tr>\n",
              "      <th>2015-08-10</th>\n",
              "      <td>0.713989</td>\n",
              "      <td>0.729854</td>\n",
              "      <td>0.636546</td>\n",
              "      <td>0.708448</td>\n",
              "      <td>405283</td>\n",
              "      <td>0</td>\n",
              "      <td>0</td>\n",
              "    </tr>\n",
              "    <tr>\n",
              "      <th>2015-08-11</th>\n",
              "      <td>0.708087</td>\n",
              "      <td>1.131410</td>\n",
              "      <td>0.663235</td>\n",
              "      <td>1.067860</td>\n",
              "      <td>1463100</td>\n",
              "      <td>0</td>\n",
              "      <td>0</td>\n",
              "    </tr>\n",
              "  </tbody>\n",
              "</table>\n",
              "</div>"
            ],
            "text/plain": [
              "                Open      High       Low  ...   Volume  Dividends  Stock Splits\n",
              "Date                                      ...                                  \n",
              "2015-08-07  2.831620  3.536610  2.521120  ...   164329          0             0\n",
              "2015-08-08  2.793760  2.798810  0.714725  ...   674188          0             0\n",
              "2015-08-09  0.706136  0.879810  0.629191  ...   532170          0             0\n",
              "2015-08-10  0.713989  0.729854  0.636546  ...   405283          0             0\n",
              "2015-08-11  0.708087  1.131410  0.663235  ...  1463100          0             0\n",
              "\n",
              "[5 rows x 7 columns]"
            ]
          },
          "metadata": {},
          "execution_count": 368
        }
      ]
    },
    {
      "cell_type": "code",
      "metadata": {
        "colab": {
          "base_uri": "https://localhost:8080/",
          "height": 235
        },
        "id": "h9yixWpZOgzR",
        "outputId": "2555df40-dc5a-4969-f24d-39b34a93d6f4"
      },
      "source": [
        "def set_state(change):\n",
        "  if change >= 0:\n",
        "    state = 'HH' if change > 0.1 else 'MH'\n",
        "  else:\n",
        "    state = 'LL' if change <= -0.1 else 'ML'\n",
        "  return state\n",
        "\n",
        "df['Change'] = df['Close'].pct_change()\n",
        "df['State'] = df['Change'].apply(set_state)\n",
        "df = df.dropna()\n",
        "df['State 2'] = df['State'] + df['State'].shift(-1) + df['State'].shift(-2) # We ignore the NAs that might have be caused by creating the states changes three days in a row\n",
        "df.head()"
      ],
      "execution_count": 369,
      "outputs": [
        {
          "output_type": "execute_result",
          "data": {
            "text/html": [
              "<div>\n",
              "<style scoped>\n",
              "    .dataframe tbody tr th:only-of-type {\n",
              "        vertical-align: middle;\n",
              "    }\n",
              "\n",
              "    .dataframe tbody tr th {\n",
              "        vertical-align: top;\n",
              "    }\n",
              "\n",
              "    .dataframe thead th {\n",
              "        text-align: right;\n",
              "    }\n",
              "</style>\n",
              "<table border=\"1\" class=\"dataframe\">\n",
              "  <thead>\n",
              "    <tr style=\"text-align: right;\">\n",
              "      <th></th>\n",
              "      <th>Open</th>\n",
              "      <th>High</th>\n",
              "      <th>Low</th>\n",
              "      <th>Close</th>\n",
              "      <th>Volume</th>\n",
              "      <th>Dividends</th>\n",
              "      <th>Stock Splits</th>\n",
              "      <th>Change</th>\n",
              "      <th>State</th>\n",
              "      <th>State 2</th>\n",
              "    </tr>\n",
              "    <tr>\n",
              "      <th>Date</th>\n",
              "      <th></th>\n",
              "      <th></th>\n",
              "      <th></th>\n",
              "      <th></th>\n",
              "      <th></th>\n",
              "      <th></th>\n",
              "      <th></th>\n",
              "      <th></th>\n",
              "      <th></th>\n",
              "      <th></th>\n",
              "    </tr>\n",
              "  </thead>\n",
              "  <tbody>\n",
              "    <tr>\n",
              "      <th>2015-08-08</th>\n",
              "      <td>2.793760</td>\n",
              "      <td>2.798810</td>\n",
              "      <td>0.714725</td>\n",
              "      <td>0.753325</td>\n",
              "      <td>674188</td>\n",
              "      <td>0</td>\n",
              "      <td>0</td>\n",
              "      <td>-0.728250</td>\n",
              "      <td>LL</td>\n",
              "      <td>LLMLMH</td>\n",
              "    </tr>\n",
              "    <tr>\n",
              "      <th>2015-08-09</th>\n",
              "      <td>0.706136</td>\n",
              "      <td>0.879810</td>\n",
              "      <td>0.629191</td>\n",
              "      <td>0.701897</td>\n",
              "      <td>532170</td>\n",
              "      <td>0</td>\n",
              "      <td>0</td>\n",
              "      <td>-0.068268</td>\n",
              "      <td>ML</td>\n",
              "      <td>MLMHHH</td>\n",
              "    </tr>\n",
              "    <tr>\n",
              "      <th>2015-08-10</th>\n",
              "      <td>0.713989</td>\n",
              "      <td>0.729854</td>\n",
              "      <td>0.636546</td>\n",
              "      <td>0.708448</td>\n",
              "      <td>405283</td>\n",
              "      <td>0</td>\n",
              "      <td>0</td>\n",
              "      <td>0.009333</td>\n",
              "      <td>MH</td>\n",
              "      <td>MHHHHH</td>\n",
              "    </tr>\n",
              "    <tr>\n",
              "      <th>2015-08-11</th>\n",
              "      <td>0.708087</td>\n",
              "      <td>1.131410</td>\n",
              "      <td>0.663235</td>\n",
              "      <td>1.067860</td>\n",
              "      <td>1463100</td>\n",
              "      <td>0</td>\n",
              "      <td>0</td>\n",
              "      <td>0.507323</td>\n",
              "      <td>HH</td>\n",
              "      <td>HHHHHH</td>\n",
              "    </tr>\n",
              "    <tr>\n",
              "      <th>2015-08-12</th>\n",
              "      <td>1.058750</td>\n",
              "      <td>1.289940</td>\n",
              "      <td>0.883608</td>\n",
              "      <td>1.217440</td>\n",
              "      <td>2150620</td>\n",
              "      <td>0</td>\n",
              "      <td>0</td>\n",
              "      <td>0.140075</td>\n",
              "      <td>HH</td>\n",
              "      <td>HHHHMH</td>\n",
              "    </tr>\n",
              "  </tbody>\n",
              "</table>\n",
              "</div>"
            ],
            "text/plain": [
              "                Open      High       Low  ...    Change  State  State 2\n",
              "Date                                      ...                          \n",
              "2015-08-08  2.793760  2.798810  0.714725  ... -0.728250     LL   LLMLMH\n",
              "2015-08-09  0.706136  0.879810  0.629191  ... -0.068268     ML   MLMHHH\n",
              "2015-08-10  0.713989  0.729854  0.636546  ...  0.009333     MH   MHHHHH\n",
              "2015-08-11  0.708087  1.131410  0.663235  ...  0.507323     HH   HHHHHH\n",
              "2015-08-12  1.058750  1.289940  0.883608  ...  0.140075     HH   HHHHMH\n",
              "\n",
              "[5 rows x 10 columns]"
            ]
          },
          "metadata": {},
          "execution_count": 369
        }
      ]
    },
    {
      "cell_type": "code",
      "metadata": {
        "id": "OzkCYVsZxYaE"
      },
      "source": [
        "# Splitting the data into training data and test data\n",
        "def split_data(dataframe, split_date):\n",
        "  train = df[df.index < split_date]\n",
        "  test = df[df.index >= split_date]\n",
        "\n",
        "  last_price = train['Close'][train.index[-1]]\n",
        "  last_state = STATES.index(train['State'][train.index[-1]])\n",
        "\n",
        "  return train, test, last_price, last_state\n",
        "\n",
        "split_date = datetime.today() - timedelta(DAYS)\n",
        "train, test, last_price, last_state = split_data(df, split_date)\n",
        "\n",
        "#Creating a new training dataframe where only every third row is included.\n",
        "train_three = train.iloc[::3, :]\n",
        "#Also calculating the last states for the three days change\n",
        "last_state_three = states_three.index(train_trans_three[-2]) "
      ],
      "execution_count": 370,
      "outputs": []
    },
    {
      "cell_type": "markdown",
      "metadata": {
        "id": "OyYRZL3Kw80P"
      },
      "source": [
        "### Part 2 - Predicting the price changes\n"
      ]
    },
    {
      "cell_type": "code",
      "metadata": {
        "id": "-inlLlwq_EOv"
      },
      "source": [
        "#Converting the state changes to lists\n",
        "train_trans = train['State'].tolist()\n",
        "train_trans_three = train_three['State 2'].tolist() \n",
        "test_trans = test['State'].tolist()"
      ],
      "execution_count": 371,
      "outputs": []
    },
    {
      "cell_type": "code",
      "metadata": {
        "id": "nUUP2dGt_i_W"
      },
      "source": [
        "#Method to convert states changes into a probability transitions matrix\n",
        "def transition_matrix(transitions):\n",
        "  df = pd.DataFrame(transitions)\n",
        "  df['shift'] = df[0].shift(-1)\n",
        "  df['count'] = 1\n",
        "  \n",
        "  #count all transition jumps\n",
        "  trans_mat = df.groupby([0, 'shift']).count().unstack().fillna(0)\n",
        "\n",
        "  #compute all the possible states\n",
        "  states = trans_mat.index.tolist()\n",
        "\n",
        "  # normalize the transitions to get probability\n",
        "  trans_mat = trans_mat.div(trans_mat.sum(axis=1), axis=0).values\n",
        "  return trans_mat, states"
      ],
      "execution_count": 372,
      "outputs": []
    },
    {
      "cell_type": "code",
      "metadata": {
        "id": "grViZVZTAWfD"
      },
      "source": [
        "#Creating transition matrices for the one day state changes and the three days state changes.\n",
        "trans_mat, states = transition_matrix(train_trans)\n",
        "trans_mat_three, states_three = transition_matrix(train_trans_three)"
      ],
      "execution_count": 373,
      "outputs": []
    },
    {
      "cell_type": "code",
      "metadata": {
        "id": "tYqyIPYDCZxJ"
      },
      "source": [
        "#Methods for getting the next step in the markov chain simulation\n",
        "def get_future_steps(trans_mat, states, days, last_state):\n",
        "  gen_list = []\n",
        "  #Simulate for \"days\" number of days\n",
        "  for day in range(days):\n",
        "    next_state = get_next_step(trans_mat, len(states), last_state)\n",
        "    gen_list.append(states[next_state])\n",
        "    last_state = next_state\n",
        "  return gen_list\n",
        "\n",
        "def get_next_step(trans_mat, nbr_states, last_state):\n",
        "  random_value = random.uniform(0,1)\n",
        "  next_state = 0 #next state\n",
        "  interval = 0\n",
        "  #Next step is randomly simulated, but with the transition matrices kept in mind.\n",
        "  for i in range(nbr_states):\n",
        "    if random_value <= trans_mat[last_state][i] + interval:\n",
        "      next_state = i\n",
        "      break\n",
        "    interval += trans_mat[last_state][i]\n",
        "  return next_state"
      ],
      "execution_count": 374,
      "outputs": []
    },
    {
      "cell_type": "code",
      "metadata": {
        "id": "g7f7xyZIwBvF"
      },
      "source": [
        "#Get the predictions for the comming DAYS (30) days\n",
        "predicted_trans  = get_future_steps(trans_mat, states, DAYS, last_state)\n",
        "predicted_trans_three = get_future_steps(trans_mat_three, states_three, int(DAYS/3), last_state_three)"
      ],
      "execution_count": 375,
      "outputs": []
    },
    {
      "cell_type": "code",
      "metadata": {
        "colab": {
          "base_uri": "https://localhost:8080/"
        },
        "id": "lnUcdqWfDPvt",
        "outputId": "4980b8cf-c86b-46a2-e838-27efb50855cf"
      },
      "source": [
        "#Converts multiple days states into single day states.\n",
        "def get_day_list(list):\n",
        "  string_list = ''.join(list)\n",
        "  day_list = [string_list[i:i+2] for i in range(0, len(string_list), 2)]\n",
        "  return day_list\n",
        "\n",
        "predicted_trans_three = get_day_list(predicted_trans_three)\n",
        "print(predicted_trans_three)"
      ],
      "execution_count": 376,
      "outputs": [
        {
          "output_type": "stream",
          "name": "stdout",
          "text": [
            "['MH', 'ML', 'MH', 'ML', 'MH', 'ML', 'MH', 'MH', 'MH', 'ML', 'MH', 'MH', 'ML', 'MH', 'MH', 'ML', 'ML', 'MH', 'MH', 'ML', 'MH', 'MH', 'ML', 'ML', 'ML', 'MH', 'ML', 'ML', 'LL', 'MH']\n"
          ]
        }
      ]
    },
    {
      "cell_type": "code",
      "metadata": {
        "colab": {
          "base_uri": "https://localhost:8080/",
          "height": 329
        },
        "id": "UzsmkzG-D0ZL",
        "outputId": "a0e2baf7-4f7b-4d00-f191-8a23ec855491"
      },
      "source": [
        "#We evaulte the accuracy by creating this method\n",
        "def get_accuracy(predicted, actual, days):\n",
        "  accuracy = []\n",
        "  correct = 0\n",
        "  for i in range(days):\n",
        "    if predicted[i] == actual[i]:\n",
        "      correct += 1\n",
        "    accuracy.append(correct/(i+1))\n",
        "  return accuracy\n",
        "\n",
        "days_list = np.linspace(0,DAYS-1,num=DAYS).tolist()\n",
        "\n",
        "acc_one = get_accuracy(predicted_trans, test_trans, DAYS)\n",
        "acc_three = get_accuracy(predicted_trans_three, test_trans, DAYS)\n",
        "\n",
        "plt1, = plt.plot(days_list,acc_three)\n",
        "plt2, = plt.plot(days_list,acc_one)\n",
        "\n",
        "plt.legend((plt1,plt2), (\"Three days\",\"One day\"))\n",
        "plt.title(\"Prediction accuracy\")\n",
        "plt.xlabel(\"Days\")\n",
        "plt.ylabel(\"Accuarcy\")\n",
        "\n",
        "print(\"Accuracy (Three days): \", round(acc_three[-1],2))\n",
        "print(\"Accuracy (One day): \", round(acc_one[-1],2))"
      ],
      "execution_count": 386,
      "outputs": [
        {
          "output_type": "stream",
          "name": "stdout",
          "text": [
            "Accuracy (Three days):  0.57\n",
            "Accuracy (One day):  0.4\n"
          ]
        },
        {
          "output_type": "display_data",
          "data": {
            "image/png": "[encoded data removed]",
            "text/plain": [
              "<Figure size 432x288 with 1 Axes>"
            ]
          },
          "metadata": {
            "needs_background": "light"
          }
        }
      ]
    },
    {
      "cell_type": "markdown",
      "metadata": {
        "id": "E-gNYN9y_YEH"
      },
      "source": [
        "We get an accuracy of 57% for the three days state predictions compared to 40% for the one-day predictions: this is a lot better than just guessing each day, where each day, we have 25% of guessing correct."
      ]
    },
    {
      "cell_type": "markdown",
      "metadata": {
        "id": "s80UJiOqv2cc"
      },
      "source": [
        "### Part 3 - Simulating the price of ETH"
      ]
    },
    {
      "cell_type": "code",
      "metadata": {
        "colab": {
          "base_uri": "https://localhost:8080/",
          "height": 266
        },
        "id": "ujjPdMAQ8Ppf",
        "outputId": "41007138-9a23-4342-efe9-0923a97970f2"
      },
      "source": [
        "#Let's look at the train data\n",
        "train_change_rounded = [round(k,2) for k in train['Change']]\n",
        "plt.hist(train_change_rounded, bins=60)\n",
        "plt.show()"
      ],
      "execution_count": 378,
      "outputs": [
        {
          "output_type": "display_data",
          "data": {
            "image/png": "[encoded data removed]",
            "text/plain": [
              "<Figure size 432x288 with 1 Axes>"
            ]
          },
          "metadata": {
            "needs_background": "light"
          }
        }
      ]
    },
    {
      "cell_type": "code",
      "metadata": {
        "colab": {
          "base_uri": "https://localhost:8080/"
        },
        "id": "5jbQs06BhpBa",
        "outputId": "42ab13cc-a833-4158-b504-c32ad9efdc7e"
      },
      "source": [
        "mean = np.mean(train_change_rounded)\n",
        "var = np.var(train_change_rounded)\n",
        "print(f\"Mean: {mean}, and variance: {var}.\")"
      ],
      "execution_count": 379,
      "outputs": [
        {
          "output_type": "stream",
          "name": "stdout",
          "text": [
            "Mean: 0.00535904255319149, and variance: 0.004145527116813792.\n"
          ]
        }
      ]
    },
    {
      "cell_type": "markdown",
      "metadata": {
        "id": "00rom9bg61PP"
      },
      "source": [
        "Our data is normally (Gaussian) distributed with some outliers (which we will ignore this time). For this simulation, we will assume that the high highs and low lows will be exponentially distributed, with similar but opposite means (i.e., mean_ll = -mean_hh). Please, look below. "
      ]
    },
    {
      "cell_type": "code",
      "metadata": {
        "colab": {
          "base_uri": "https://localhost:8080/",
          "height": 282
        },
        "id": "asSVtjBZ4mYX",
        "outputId": "c9342b15-9d1b-4832-d673-6091fb52abba"
      },
      "source": [
        "hh_change_rounded = [round(k,2) for k in train['Change'][train['State']=='HH']]\n",
        "ll_change_rounded = [round(k,2) for k in train['Change'][train['State']=='LL']]\n",
        "\n",
        "mean_hh = np.mean(hh_change_rounded)\n",
        "mean_ll = np.mean(ll_change_rounded)\n",
        "print(f\"HH mean: {mean_hh}. LL mean: {mean_ll}.\")\n",
        "\n",
        "plt.hist(hh_change_rounded, bins=12)\n",
        "plt.hist(ll_change_rounded, bins=12)\n",
        "plt.show()"
      ],
      "execution_count": 380,
      "outputs": [
        {
          "output_type": "stream",
          "name": "stdout",
          "text": [
            "HH mean: 0.16053435114503814. LL mean: -0.15833333333333333.\n"
          ]
        },
        {
          "output_type": "display_data",
          "data": {
            "image/png": "[encoded data removed]",
            "text/plain": [
              "<Figure size 432x288 with 1 Axes>"
            ]
          },
          "metadata": {
            "needs_background": "light"
          }
        }
      ]
    },
    {
      "cell_type": "markdown",
      "metadata": {
        "id": "jdo35Hnm7psi"
      },
      "source": [
        "We can then simulate this probability distribution by approximating its intensity (lambda) and get the following data (which behaves similarly to the high highs and low lows distribution)."
      ]
    },
    {
      "cell_type": "code",
      "metadata": {
        "colab": {
          "base_uri": "https://localhost:8080/",
          "height": 265
        },
        "id": "yXtJZxahIM_W",
        "outputId": "3414cd45-4483-478e-e489-859c6057b552"
      },
      "source": [
        "lambd = 1/(mean_hh-0.1)\n",
        "nums = [] \n",
        "for i in range(len(hh_change_rounded*3)): \n",
        "    temp = random.expovariate(lambd)+0.1\n",
        "    nums.append(temp) \n",
        "plt.hist(nums, bins = 12) \n",
        "plt.show()"
      ],
      "execution_count": 381,
      "outputs": [
        {
          "output_type": "display_data",
          "data": {
            "image/png": "[encoded data removed]",
            "text/plain": [
              "<Figure size 432x288 with 1 Axes>"
            ]
          },
          "metadata": {
            "needs_background": "light"
          }
        }
      ]
    },
    {
      "cell_type": "code",
      "metadata": {
        "id": "WXM3OoNpw2t9"
      },
      "source": [
        "#Convert to time series\n",
        "def get_time_series(prev_price, predictions, mean, var, lambd):\n",
        "  time_series_price = []\n",
        "  for pred in predictions:\n",
        "    if pred == \"HH\": \n",
        "      prev_price = prev_price * (1 + get_random_change(pred, mean, var, lambd))\n",
        "      time_series_price.append(prev_price)\n",
        "    elif pred == \"LL\":\n",
        "      prev_price = prev_price * (1 - get_random_change(pred, mean, var, lambd))\n",
        "      time_series_price.append(prev_price)\n",
        "    elif pred == \"MH\":\n",
        "      prev_price = prev_price * (1 + get_random_change(pred, mean, var, lambd))\n",
        "      time_series_price.append(prev_price)\n",
        "    else:\n",
        "      prev_price = prev_price * (1 - get_random_change(pred, mean, var, lambd))\n",
        "      time_series_price.append(prev_price)\n",
        "  return time_series_price\n",
        "\n",
        "def get_random_change(state, mean, var, lambd):\n",
        "  change = random.normalvariate(mean,var)\n",
        "  if state == \"LL\" or state == \"HH\":\n",
        "    change = 0.1 + random.expovariate(lambd)\n",
        "  else:\n",
        "    while change > 0.1:\n",
        "      change = abs(random.normalvariate(mean,var))\n",
        "  return change"
      ],
      "execution_count": 382,
      "outputs": []
    },
    {
      "cell_type": "code",
      "metadata": {
        "id": "OifoHy-Gx23L"
      },
      "source": [
        "time_series_one = get_time_series(last_price, predicted_trans, mean, var, lambd)\n",
        "time_series_three = get_time_series(last_price, predicted_trans_three, mean, var, lambd)"
      ],
      "execution_count": 383,
      "outputs": []
    },
    {
      "cell_type": "code",
      "metadata": {
        "colab": {
          "base_uri": "https://localhost:8080/",
          "height": 295
        },
        "id": "NrD8cK-85ctS",
        "outputId": "9e712f4b-c0e6-408a-c441-18cd24d1ae58"
      },
      "source": [
        "actual, = plt.plot(days_list, test[\"Open\"])\n",
        "pred_one, = plt.plot(days_list, time_series_one)\n",
        "pred_three, = plt.plot(days_list, time_series_three)\n",
        "\n",
        "plt.legend((actual,pred_one, pred_three), [\"Actual\", \"One Day\", \"Three Days\"])\n",
        "\n",
        "plt.title(\"Price simulation\")\n",
        "plt.xlabel(\"Days\")\n",
        "plt.ylabel(\"Price (USD)\")\n",
        "\n",
        "plt.show()"
      ],
      "execution_count": 384,
      "outputs": [
        {
          "output_type": "display_data",
          "data": {
            "image/png": "[encoded data removed]",
            "text/plain": [
              "<Figure size 432x288 with 1 Axes>"
            ]
          },
          "metadata": {
            "needs_background": "light"
          }
        }
      ]
    }
  ]
}
