{
  "nbformat": 4,
  "nbformat_minor": 0,
  "metadata": {
    "colab": {
      "name": "austin_sql.ipynb",
      "provenance": [],
      "collapsed_sections": [],
      "authorship_tag": "ABX9TyP0MF2Kn3b2lJI9sHSHh/E+",
      "include_colab_link": true
    },
    "kernelspec": {
      "name": "python3",
      "display_name": "Python 3"
    },
    "language_info": {
      "name": "python"
    }
  },
  "cells": [
    {
      "cell_type": "markdown",
      "metadata": {
        "id": "view-in-github",
        "colab_type": "text"
      },
      "source": [
        "<a href=\"https://colab.research.google.com/github/dansten/Portfolio/blob/main/austin_sql.ipynb\" target=\"_parent\"><img src=\"https://colab.research.google.com/assets/colab-badge.svg\" alt=\"Open In Colab\"/></a>"
      ]
    },
    {
      "cell_type": "code",
      "metadata": {
        "id": "jzGhXyLblWGU"
      },
      "source": [
        "from google.cloud import bigquery\n",
        "from google.colab import auth\n",
        "from google.cloud import bigquery\n",
        "auth.authenticate_user()\n",
        "\n",
        "project_id = 'sql-portfolio'\n",
        "client = bigquery.Client(project=project_id)"
      ],
      "execution_count": 49,
      "outputs": []
    },
    {
      "cell_type": "code",
      "metadata": {
        "id": "eXtX0q_clbNj"
      },
      "source": [
        "#!pip install google-cloud \n",
        "#!pip install --upgrade google-cloud-bigquery[pandas] \n",
        "#!pip install google-cloud-storage"
      ],
      "execution_count": 50,
      "outputs": []
    },
    {
      "cell_type": "code",
      "metadata": {
        "colab": {
          "base_uri": "https://localhost:8080/"
        },
        "id": "Ojt0fMwRldPy",
        "outputId": "8f851d00-8359-4ccf-fbba-3f9d74ab2e79"
      },
      "source": [
        "%load_ext google.cloud.bigquery"
      ],
      "execution_count": 51,
      "outputs": [
        {
          "output_type": "stream",
          "name": "stdout",
          "text": [
            "The google.cloud.bigquery extension is already loaded. To reload it, use:\n",
            "  %reload_ext google.cloud.bigquery\n"
          ]
        }
      ]
    },
    {
      "cell_type": "code",
      "metadata": {
        "id": "VB3iaksclepJ"
      },
      "source": [
        "SERVICE_ACCOUNT= 'ds_acc'\n",
        "JSON_FILE_NAME = '/content/drive/MyDrive/sql-portfolio-fdb03de9bfd5.json'\n",
        "GCP_PROJECT_ID = 'sql-portfolio'"
      ],
      "execution_count": 52,
      "outputs": []
    },
    {
      "cell_type": "code",
      "metadata": {
        "id": "F3q2r3oVlgV8"
      },
      "source": [
        "import matplotlib.pyplot as plt"
      ],
      "execution_count": 53,
      "outputs": []
    },
    {
      "cell_type": "code",
      "metadata": {
        "id": "U785RU7Rl6lS"
      },
      "source": [
        "#Useful methods\n",
        "def query_to_dataframe(q):\n",
        "  return client.query(q).result().to_dataframe()\n",
        "\n",
        "def get_schema(table):\n",
        "  return client.get_table(table).schema"
      ],
      "execution_count": 54,
      "outputs": []
    },
    {
      "cell_type": "code",
      "metadata": {
        "colab": {
          "base_uri": "https://localhost:8080/"
        },
        "id": "m3iJdpE4l8Zl",
        "outputId": "4958cb1e-b09e-4373-b11e-bd9bf4aaf194"
      },
      "source": [
        "table = 'bigquery-public-data.austin_bikeshare.bikeshare_stations'\n",
        "get_schema(table)"
      ],
      "execution_count": 55,
      "outputs": [
        {
          "output_type": "execute_result",
          "data": {
            "text/plain": [
              "[SchemaField('station_id', 'INTEGER', 'NULLABLE', None, ()),\n",
              " SchemaField('name', 'STRING', 'NULLABLE', None, ()),\n",
              " SchemaField('status', 'STRING', 'NULLABLE', None, ()),\n",
              " SchemaField('address', 'STRING', 'NULLABLE', None, ()),\n",
              " SchemaField('alternate_name', 'STRING', 'NULLABLE', None, ()),\n",
              " SchemaField('city_asset_number', 'INTEGER', 'NULLABLE', None, ()),\n",
              " SchemaField('property_type', 'STRING', 'NULLABLE', None, ()),\n",
              " SchemaField('number_of_docks', 'INTEGER', 'NULLABLE', None, ()),\n",
              " SchemaField('power_type', 'STRING', 'NULLABLE', None, ()),\n",
              " SchemaField('footprint_length', 'INTEGER', 'NULLABLE', None, ()),\n",
              " SchemaField('footprint_width', 'FLOAT', 'NULLABLE', None, ()),\n",
              " SchemaField('notes', 'STRING', 'NULLABLE', None, ()),\n",
              " SchemaField('council_district', 'INTEGER', 'NULLABLE', None, ()),\n",
              " SchemaField('modified_date', 'TIMESTAMP', 'NULLABLE', None, ())]"
            ]
          },
          "metadata": {},
          "execution_count": 55
        }
      ]
    },
    {
      "cell_type": "code",
      "metadata": {
        "colab": {
          "base_uri": "https://localhost:8080/"
        },
        "id": "z38UxQ90l9vc",
        "outputId": "967285ec-ada6-4387-f47d-311cff5d24be"
      },
      "source": [
        "table = 'bigquery-public-data.austin_bikeshare.bikeshare_trips'\n",
        "get_schema(table)"
      ],
      "execution_count": 56,
      "outputs": [
        {
          "output_type": "execute_result",
          "data": {
            "text/plain": [
              "[SchemaField('trip_id', 'INTEGER', 'NULLABLE', 'Numeric ID of bike trip', ()),\n",
              " SchemaField('subscriber_type', 'STRING', 'NULLABLE', 'Type of the Subscriber', ()),\n",
              " SchemaField('bikeid', 'STRING', 'NULLABLE', 'ID of bike used', ()),\n",
              " SchemaField('start_time', 'TIMESTAMP', 'NULLABLE', 'Start timestamp of trip', ()),\n",
              " SchemaField('start_station_id', 'INTEGER', 'NULLABLE', 'Numeric reference for start station', ()),\n",
              " SchemaField('start_station_name', 'STRING', 'NULLABLE', 'Station name for start station', ()),\n",
              " SchemaField('end_station_id', 'STRING', 'NULLABLE', 'Numeric reference for end station', ()),\n",
              " SchemaField('end_station_name', 'STRING', 'NULLABLE', 'Station name for end station', ()),\n",
              " SchemaField('duration_minutes', 'INTEGER', 'NULLABLE', 'Time of trip in minutes', ())]"
            ]
          },
          "metadata": {},
          "execution_count": 56
        }
      ]
    },
    {
      "cell_type": "markdown",
      "metadata": {
        "id": "cF7VNkTsmSaA"
      },
      "source": [
        "1. What bikes are most popular?"
      ]
    },
    {
      "cell_type": "code",
      "metadata": {
        "colab": {
          "base_uri": "https://localhost:8080/",
          "height": 281
        },
        "id": "RRIZ1n9amWfA",
        "outputId": "da76d1b7-99b0-4fa6-a90b-3427298d5eab"
      },
      "source": [
        "q1 = \"\"\"\n",
        "  SELECT \n",
        "    bikeid, \n",
        "    FLOOR(COUNT(trip_id)) AS num_trips,\n",
        "  FROM `bigquery-public-data.austin_bikeshare.bikeshare_trips`\n",
        "  GROUP BY bikeid\n",
        "  ORDER BY num_trips DESC\n",
        "\"\"\"\n",
        "bike_df = query_to_dataframe(q1)\n",
        "plt.hist(bike_df.num_trips, bins =25)\n",
        "plt.title(\"Number of rides per bike\")\n",
        "plt.show()"
      ],
      "execution_count": 57,
      "outputs": [
        {
          "output_type": "display_data",
          "data": {
            "image/png": "[encoded data removed]",
            "text/plain": [
              "<Figure size 432x288 with 1 Axes>"
            ]
          },
          "metadata": {
            "needs_background": "light"
          }
        }
      ]
    },
    {
      "cell_type": "markdown",
      "metadata": {
        "id": "sCqHZrH_nnwB"
      },
      "source": [
        "We can see that we have three kind of groups, let's call these low, medium and high usage. Bikes that have been used 0-750 times (low), bikes that have been used 750-2250 (medium) and bikes that have been used 2250-3500 times (high). \n",
        "\n",
        "Let's look at the average ride time for each of these groups."
      ]
    },
    {
      "cell_type": "code",
      "metadata": {
        "id": "EUe_h1bFoMDX"
      },
      "source": [
        "# we want, usage_group, avg_ur\n",
        "q2 = \"\"\"\n",
        "  SELECT \n",
        "    bikeid,\n",
        "    CASE \n",
        "        WHEN num_trips > 2250 THEN 'High'\n",
        "        WHEN num_trips < 750 THEN 'Low'\n",
        "        ELSE 'Medium'\n",
        "    END\n",
        "    AS usage_group,\n",
        "    avg_dur \n",
        "    FROM (\n",
        "        SELECT \n",
        "            bikeid, \n",
        "            FLOOR(COUNT(trip_id)) AS num_trips,\n",
        "            FLOOR(AVG(duration_minutes)) AS avg_dur\n",
        "        FROM `bigquery-public-data.austin_bikeshare.bikeshare_trips`\n",
        "        GROUP BY bikeid\n",
        "    )\n",
        "\"\"\"\n",
        "bike_group_df = query_to_dataframe(q2)"
      ],
      "execution_count": 58,
      "outputs": []
    },
    {
      "cell_type": "code",
      "metadata": {
        "colab": {
          "base_uri": "https://localhost:8080/",
          "height": 204
        },
        "id": "D3f_N31N5kvj",
        "outputId": "23228933-a4e3-4b45-c676-af316eb79ee9"
      },
      "source": [
        "bike_group_df.head()"
      ],
      "execution_count": 59,
      "outputs": [
        {
          "output_type": "execute_result",
          "data": {
            "text/html": [
              "<div>\n",
              "<style scoped>\n",
              "    .dataframe tbody tr th:only-of-type {\n",
              "        vertical-align: middle;\n",
              "    }\n",
              "\n",
              "    .dataframe tbody tr th {\n",
              "        vertical-align: top;\n",
              "    }\n",
              "\n",
              "    .dataframe thead th {\n",
              "        text-align: right;\n",
              "    }\n",
              "</style>\n",
              "<table border=\"1\" class=\"dataframe\">\n",
              "  <thead>\n",
              "    <tr style=\"text-align: right;\">\n",
              "      <th></th>\n",
              "      <th>bikeid</th>\n",
              "      <th>usage_group</th>\n",
              "      <th>avg_dur</th>\n",
              "    </tr>\n",
              "  </thead>\n",
              "  <tbody>\n",
              "    <tr>\n",
              "      <th>0</th>\n",
              "      <td>248</td>\n",
              "      <td>Medium</td>\n",
              "      <td>39.0</td>\n",
              "    </tr>\n",
              "    <tr>\n",
              "      <th>1</th>\n",
              "      <td>446</td>\n",
              "      <td>High</td>\n",
              "      <td>28.0</td>\n",
              "    </tr>\n",
              "    <tr>\n",
              "      <th>2</th>\n",
              "      <td>203</td>\n",
              "      <td>High</td>\n",
              "      <td>29.0</td>\n",
              "    </tr>\n",
              "    <tr>\n",
              "      <th>3</th>\n",
              "      <td>101</td>\n",
              "      <td>High</td>\n",
              "      <td>28.0</td>\n",
              "    </tr>\n",
              "    <tr>\n",
              "      <th>4</th>\n",
              "      <td>242</td>\n",
              "      <td>Medium</td>\n",
              "      <td>30.0</td>\n",
              "    </tr>\n",
              "  </tbody>\n",
              "</table>\n",
              "</div>"
            ],
            "text/plain": [
              "  bikeid usage_group  avg_dur\n",
              "0    248      Medium     39.0\n",
              "1    446        High     28.0\n",
              "2    203        High     29.0\n",
              "3    101        High     28.0\n",
              "4    242      Medium     30.0"
            ]
          },
          "metadata": {},
          "execution_count": 59
        }
      ]
    },
    {
      "cell_type": "code",
      "metadata": {
        "colab": {
          "base_uri": "https://localhost:8080/",
          "height": 266
        },
        "id": "goBKZtCX5pjM",
        "outputId": "536dc3b4-7215-48ed-ec17-7c5000fd18eb"
      },
      "source": [
        "#First, let's plot to see if we have any outliers\n",
        "#We sort \n",
        "import numpy as np\n",
        "bike_group_df = bike_group_df.sort_values(['avg_dur'], ascending=False)\n",
        "bike_group_df.shape[0]\n",
        "x = np.linspace(0,bike_group_df.shape[0],bike_group_df.shape[0])\n",
        "plt.plot(x,bike_group_df.avg_dur)\n",
        "plt.show()"
      ],
      "execution_count": 60,
      "outputs": [
        {
          "output_type": "display_data",
          "data": {
            "image/png": "[encoded data removed]",
            "text/plain": [
              "<Figure size 432x288 with 1 Axes>"
            ]
          },
          "metadata": {
            "needs_background": "light"
          }
        }
      ]
    },
    {
      "cell_type": "markdown",
      "metadata": {
        "id": "ZAfzjoL47v4R"
      },
      "source": [
        "As we can see, we have one or possible a few outliers in the begining, there are many ways we can handle these, e.g., linear interpolation, cubic interpolation etc, for this time we are just going to remove them. However, it would probably be a good idea to, at some point, study why we have these outliers."
      ]
    },
    {
      "cell_type": "code",
      "metadata": {
        "id": "2lEXSP887_jo"
      },
      "source": [
        "bike_group_df = bike_group_df.tail(bike_group_df.shape[0] -4)"
      ],
      "execution_count": 61,
      "outputs": []
    },
    {
      "cell_type": "code",
      "metadata": {
        "colab": {
          "base_uri": "https://localhost:8080/",
          "height": 265
        },
        "id": "owXJjxNI8iob",
        "outputId": "359e6e8e-2eb4-4475-b9d9-dba5998953d0"
      },
      "source": [
        "x = np.linspace(0,bike_group_df.shape[0],bike_group_df.shape[0])\n",
        "plt.plot(x,bike_group_df.avg_dur)\n",
        "plt.show()"
      ],
      "execution_count": 62,
      "outputs": [
        {
          "output_type": "display_data",
          "data": {
            "image/png": "[encoded data removed]",
            "text/plain": [
              "<Figure size 432x288 with 1 Axes>"
            ]
          },
          "metadata": {
            "needs_background": "light"
          }
        }
      ]
    },
    {
      "cell_type": "markdown",
      "metadata": {
        "id": "pP8VUwWL-aqQ"
      },
      "source": [
        "That looks much better. We still have some outliers, but these seem more reasonable, so we will keep them."
      ]
    },
    {
      "cell_type": "code",
      "metadata": {
        "id": "viOG5AqC6xHN"
      },
      "source": [
        "low_df = bike_group_df[bike_group_df['usage_group'] == 'Low']\n",
        "medium_df = bike_group_df[bike_group_df['usage_group'] == 'Medium']\n",
        "high_df = bike_group_df[bike_group_df['usage_group'] == 'High']"
      ],
      "execution_count": 63,
      "outputs": []
    },
    {
      "cell_type": "code",
      "metadata": {
        "colab": {
          "base_uri": "https://localhost:8080/",
          "height": 402
        },
        "id": "OSpp-fvs-sp_",
        "outputId": "d5773aa3-7d2d-48a3-f10e-09cdfbf3a4f8"
      },
      "source": [
        "import seaborn as sns\n",
        "sns.distplot(low_df['avg_dur'], hist=False, kde = True, \n",
        "             kde_kws = {'linewidth': 3},\n",
        "             label = \"Low Usage\")\n",
        "sns.distplot(medium_df['avg_dur'], hist=False, kde = True, \n",
        "             kde_kws = {'linewidth': 3},\n",
        "             label = \"Medium Usage\")\n",
        "sns.distplot(high_df['avg_dur'], hist=False, kde = True, \n",
        "             kde_kws = {'linewidth': 3},\n",
        "             label = \"High Usage\")\n",
        "plt.legend(prop={'size':10})\n",
        "plt.show()"
      ],
      "execution_count": 64,
      "outputs": [
        {
          "output_type": "stream",
          "name": "stderr",
          "text": [
            "/usr/local/lib/python3.7/dist-packages/seaborn/distributions.py:2619: FutureWarning: `distplot` is a deprecated function and will be removed in a future version. Please adapt your code to use either `displot` (a figure-level function with similar flexibility) or `kdeplot` (an axes-level function for kernel density plots).\n",
            "  warnings.warn(msg, FutureWarning)\n",
            "/usr/local/lib/python3.7/dist-packages/seaborn/distributions.py:2619: FutureWarning: `distplot` is a deprecated function and will be removed in a future version. Please adapt your code to use either `displot` (a figure-level function with similar flexibility) or `kdeplot` (an axes-level function for kernel density plots).\n",
            "  warnings.warn(msg, FutureWarning)\n",
            "/usr/local/lib/python3.7/dist-packages/seaborn/distributions.py:2619: FutureWarning: `distplot` is a deprecated function and will be removed in a future version. Please adapt your code to use either `displot` (a figure-level function with similar flexibility) or `kdeplot` (an axes-level function for kernel density plots).\n",
            "  warnings.warn(msg, FutureWarning)\n"
          ]
        },
        {
          "output_type": "display_data",
          "data": {
            "image/png": "[encoded data removed]",
            "text/plain": [
              "<Figure size 432x288 with 1 Axes>"
            ]
          },
          "metadata": {
            "needs_background": "light"
          }
        }
      ]
    },
    {
      "cell_type": "markdown",
      "metadata": {
        "id": "phJj2Ray_31i"
      },
      "source": [
        "So we can see that the mean for the medium and high usage is approximately the same, around 30 minutes, whilst for the low usage bikes it is a bit higher, around 35 minutes. \n",
        "We can also note, that the low usage bikes have a much higher variance than medium and high usage. \n",
        "\n",
        "Now we will try to understand these groups even further. Can we find similar travel patterns? Let's take a look."
      ]
    },
    {
      "cell_type": "code",
      "metadata": {
        "colab": {
          "base_uri": "https://localhost:8080/",
          "height": 204
        },
        "id": "HdL8BrE_Ce95",
        "outputId": "3cb936ac-39b4-4fa4-921d-79baffd764aa"
      },
      "source": [
        "#What routes are most poopular for each group\n",
        "q3 = \"\"\"\n",
        "  SELECT \n",
        "    CONCAT(start_station_id, '-', end_station_id) as route, \n",
        "    start_station_id,\n",
        "    end_station_id,\n",
        "    COUNT(trip_id) AS num_trips\n",
        "  FROM `bigquery-public-data.austin_bikeshare.bikeshare_trips`\n",
        "  GROUP BY route, start_station_id, end_station_id\n",
        "  ORDER BY num_trips DESC\n",
        "  LIMIT 25\n",
        "\"\"\"\n",
        "top_routes_df = query_to_dataframe(q3)\n",
        "top_routes_df.head()"
      ],
      "execution_count": 65,
      "outputs": [
        {
          "output_type": "execute_result",
          "data": {
            "text/html": [
              "<div>\n",
              "<style scoped>\n",
              "    .dataframe tbody tr th:only-of-type {\n",
              "        vertical-align: middle;\n",
              "    }\n",
              "\n",
              "    .dataframe tbody tr th {\n",
              "        vertical-align: top;\n",
              "    }\n",
              "\n",
              "    .dataframe thead th {\n",
              "        text-align: right;\n",
              "    }\n",
              "</style>\n",
              "<table border=\"1\" class=\"dataframe\">\n",
              "  <thead>\n",
              "    <tr style=\"text-align: right;\">\n",
              "      <th></th>\n",
              "      <th>route</th>\n",
              "      <th>start_station_id</th>\n",
              "      <th>end_station_id</th>\n",
              "      <th>num_trips</th>\n",
              "    </tr>\n",
              "  </thead>\n",
              "  <tbody>\n",
              "    <tr>\n",
              "      <th>0</th>\n",
              "      <td>2575-2575</td>\n",
              "      <td>2575</td>\n",
              "      <td>2575</td>\n",
              "      <td>15257</td>\n",
              "    </tr>\n",
              "    <tr>\n",
              "      <th>1</th>\n",
              "      <td>3798-3798</td>\n",
              "      <td>3798</td>\n",
              "      <td>3798</td>\n",
              "      <td>14346</td>\n",
              "    </tr>\n",
              "    <tr>\n",
              "      <th>2</th>\n",
              "      <td>3798-3794</td>\n",
              "      <td>3798</td>\n",
              "      <td>3794</td>\n",
              "      <td>12714</td>\n",
              "    </tr>\n",
              "    <tr>\n",
              "      <th>3</th>\n",
              "      <td>3794-3798</td>\n",
              "      <td>3794</td>\n",
              "      <td>3798</td>\n",
              "      <td>12294</td>\n",
              "    </tr>\n",
              "    <tr>\n",
              "      <th>4</th>\n",
              "      <td>2707-2707</td>\n",
              "      <td>2707</td>\n",
              "      <td>2707</td>\n",
              "      <td>11185</td>\n",
              "    </tr>\n",
              "  </tbody>\n",
              "</table>\n",
              "</div>"
            ],
            "text/plain": [
              "       route  start_station_id end_station_id  num_trips\n",
              "0  2575-2575              2575           2575      15257\n",
              "1  3798-3798              3798           3798      14346\n",
              "2  3798-3794              3798           3794      12714\n",
              "3  3794-3798              3794           3798      12294\n",
              "4  2707-2707              2707           2707      11185"
            ]
          },
          "metadata": {},
          "execution_count": 65
        }
      ]
    },
    {
      "cell_type": "code",
      "metadata": {
        "id": "P0NNuq_GmG0q"
      },
      "source": [
        "#Add in high, in medium and in low,"
      ],
      "execution_count": 66,
      "outputs": []
    },
    {
      "cell_type": "code",
      "metadata": {
        "id": "DnN16l2t4xcj"
      },
      "source": [
        "#trip_id route bike_usage_group \n",
        "q4 = \"\"\"\n",
        "    SELECT \n",
        "        COUNT(trip_id) as num_trips,\n",
        "        CONCAT(start_station_id, '-', end_station_id) as route, \n",
        "        bikeid\n",
        "      FROM `bigquery-public-data.austin_bikeshare.bikeshare_trips`\n",
        "      WHERE bikeid IN\n",
        "        (\n",
        "            SELECT \n",
        "                bikeid\n",
        "            FROM `bigquery-public-data.austin_bikeshare.bikeshare_trips`\n",
        "            GROUP BY bikeid\n",
        "            HAVING COUNT(trip_id) > 2250\n",
        "        ) AND start_station_id IS NOT NULL AND end_station_id IS NOT NULL\n",
        "      GROUP BY route, bikeid\n",
        "      ORDER BY num_trips DESC\n",
        "      LIMIT 50\n",
        "\"\"\"\n",
        "q5 = \"\"\"\n",
        "    SELECT \n",
        "        COUNT(trip_id) as num_trips,\n",
        "        CONCAT(start_station_id, '-', end_station_id) as route, \n",
        "        bikeid\n",
        "      FROM `bigquery-public-data.austin_bikeshare.bikeshare_trips`\n",
        "      WHERE bikeid IN\n",
        "        (\n",
        "            SELECT \n",
        "                bikeid\n",
        "            FROM `bigquery-public-data.austin_bikeshare.bikeshare_trips`\n",
        "            GROUP BY bikeid\n",
        "            HAVING COUNT(trip_id) BETWEEN 750 AND 2250\n",
        "        ) AND start_station_id IS NOT NULL AND end_station_id IS NOT NULL\n",
        "      GROUP BY route, bikeid\n",
        "      ORDER BY num_trips DESC\n",
        "      LIMIT 50\n",
        "\"\"\"\n",
        "\n",
        "q6 = \"\"\"\n",
        "    SELECT \n",
        "        COUNT(trip_id) as num_trips,\n",
        "        CONCAT(start_station_id, '-', end_station_id) as route, \n",
        "        bikeid\n",
        "      FROM `bigquery-public-data.austin_bikeshare.bikeshare_trips`\n",
        "      WHERE bikeid IN\n",
        "        (\n",
        "            SELECT \n",
        "                bikeid\n",
        "            FROM `bigquery-public-data.austin_bikeshare.bikeshare_trips`\n",
        "            GROUP BY bikeid\n",
        "            HAVING COUNT(trip_id) < 750\n",
        "        ) AND start_station_id IS NOT NULL AND end_station_id IS NOT NULL\n",
        "      GROUP BY route, bikeid\n",
        "      ORDER BY num_trips DESC\n",
        "      LIMIT 50\n",
        "\"\"\"\n",
        "\n",
        "high_routes_df = query_to_dataframe(q4)\n",
        "medium_routes_df = query_to_dataframe(q5)\n",
        "low_routes_df = query_to_dataframe(q6)"
      ],
      "execution_count": 67,
      "outputs": []
    },
    {
      "cell_type": "code",
      "metadata": {
        "colab": {
          "base_uri": "https://localhost:8080/",
          "height": 204
        },
        "id": "VXj2BFp0CeZ_",
        "outputId": "bc40438d-2cac-4c56-d967-aa0d169f6eef"
      },
      "source": [
        "high_routes_df.head()"
      ],
      "execution_count": 68,
      "outputs": [
        {
          "output_type": "execute_result",
          "data": {
            "text/html": [
              "<div>\n",
              "<style scoped>\n",
              "    .dataframe tbody tr th:only-of-type {\n",
              "        vertical-align: middle;\n",
              "    }\n",
              "\n",
              "    .dataframe tbody tr th {\n",
              "        vertical-align: top;\n",
              "    }\n",
              "\n",
              "    .dataframe thead th {\n",
              "        text-align: right;\n",
              "    }\n",
              "</style>\n",
              "<table border=\"1\" class=\"dataframe\">\n",
              "  <thead>\n",
              "    <tr style=\"text-align: right;\">\n",
              "      <th></th>\n",
              "      <th>num_trips</th>\n",
              "      <th>route</th>\n",
              "      <th>bikeid</th>\n",
              "    </tr>\n",
              "  </thead>\n",
              "  <tbody>\n",
              "    <tr>\n",
              "      <th>0</th>\n",
              "      <td>325</td>\n",
              "      <td>3798-3798</td>\n",
              "      <td>853</td>\n",
              "    </tr>\n",
              "    <tr>\n",
              "      <th>1</th>\n",
              "      <td>170</td>\n",
              "      <td>3798-3798</td>\n",
              "      <td>937</td>\n",
              "    </tr>\n",
              "    <tr>\n",
              "      <th>2</th>\n",
              "      <td>166</td>\n",
              "      <td>3798-3798</td>\n",
              "      <td>559</td>\n",
              "    </tr>\n",
              "    <tr>\n",
              "      <th>3</th>\n",
              "      <td>95</td>\n",
              "      <td>2562-2562</td>\n",
              "      <td>774</td>\n",
              "    </tr>\n",
              "    <tr>\n",
              "      <th>4</th>\n",
              "      <td>80</td>\n",
              "      <td>3793-3793</td>\n",
              "      <td>621</td>\n",
              "    </tr>\n",
              "  </tbody>\n",
              "</table>\n",
              "</div>"
            ],
            "text/plain": [
              "   num_trips      route bikeid\n",
              "0        325  3798-3798    853\n",
              "1        170  3798-3798    937\n",
              "2        166  3798-3798    559\n",
              "3         95  2562-2562    774\n",
              "4         80  3793-3793    621"
            ]
          },
          "metadata": {},
          "execution_count": 68
        }
      ]
    },
    {
      "cell_type": "code",
      "metadata": {
        "colab": {
          "base_uri": "https://localhost:8080/",
          "height": 204
        },
        "id": "yJwQGfQ0xi8H",
        "outputId": "6c2af73f-7cb7-4132-f7ff-2718af14fffd"
      },
      "source": [
        "medium_routes_df.head()"
      ],
      "execution_count": 69,
      "outputs": [
        {
          "output_type": "execute_result",
          "data": {
            "text/html": [
              "<div>\n",
              "<style scoped>\n",
              "    .dataframe tbody tr th:only-of-type {\n",
              "        vertical-align: middle;\n",
              "    }\n",
              "\n",
              "    .dataframe tbody tr th {\n",
              "        vertical-align: top;\n",
              "    }\n",
              "\n",
              "    .dataframe thead th {\n",
              "        text-align: right;\n",
              "    }\n",
              "</style>\n",
              "<table border=\"1\" class=\"dataframe\">\n",
              "  <thead>\n",
              "    <tr style=\"text-align: right;\">\n",
              "      <th></th>\n",
              "      <th>num_trips</th>\n",
              "      <th>route</th>\n",
              "      <th>bikeid</th>\n",
              "    </tr>\n",
              "  </thead>\n",
              "  <tbody>\n",
              "    <tr>\n",
              "      <th>0</th>\n",
              "      <td>234</td>\n",
              "      <td>3798-3798</td>\n",
              "      <td>2351</td>\n",
              "    </tr>\n",
              "    <tr>\n",
              "      <th>1</th>\n",
              "      <td>101</td>\n",
              "      <td>3798-3798</td>\n",
              "      <td>1585</td>\n",
              "    </tr>\n",
              "    <tr>\n",
              "      <th>2</th>\n",
              "      <td>88</td>\n",
              "      <td>3798-3798</td>\n",
              "      <td>2277</td>\n",
              "    </tr>\n",
              "    <tr>\n",
              "      <th>3</th>\n",
              "      <td>84</td>\n",
              "      <td>3798-3798</td>\n",
              "      <td>1927</td>\n",
              "    </tr>\n",
              "    <tr>\n",
              "      <th>4</th>\n",
              "      <td>79</td>\n",
              "      <td>3838-3838</td>\n",
              "      <td>280</td>\n",
              "    </tr>\n",
              "  </tbody>\n",
              "</table>\n",
              "</div>"
            ],
            "text/plain": [
              "   num_trips      route bikeid\n",
              "0        234  3798-3798   2351\n",
              "1        101  3798-3798   1585\n",
              "2         88  3798-3798   2277\n",
              "3         84  3798-3798   1927\n",
              "4         79  3838-3838    280"
            ]
          },
          "metadata": {},
          "execution_count": 69
        }
      ]
    },
    {
      "cell_type": "code",
      "metadata": {
        "colab": {
          "base_uri": "https://localhost:8080/",
          "height": 204
        },
        "id": "QSelDCwHxjVt",
        "outputId": "6af2f7bf-ab8a-485d-8b4e-c077445cebe1"
      },
      "source": [
        "low_routes_df.head()"
      ],
      "execution_count": 70,
      "outputs": [
        {
          "output_type": "execute_result",
          "data": {
            "text/html": [
              "<div>\n",
              "<style scoped>\n",
              "    .dataframe tbody tr th:only-of-type {\n",
              "        vertical-align: middle;\n",
              "    }\n",
              "\n",
              "    .dataframe tbody tr th {\n",
              "        vertical-align: top;\n",
              "    }\n",
              "\n",
              "    .dataframe thead th {\n",
              "        text-align: right;\n",
              "    }\n",
              "</style>\n",
              "<table border=\"1\" class=\"dataframe\">\n",
              "  <thead>\n",
              "    <tr style=\"text-align: right;\">\n",
              "      <th></th>\n",
              "      <th>num_trips</th>\n",
              "      <th>route</th>\n",
              "      <th>bikeid</th>\n",
              "    </tr>\n",
              "  </thead>\n",
              "  <tbody>\n",
              "    <tr>\n",
              "      <th>0</th>\n",
              "      <td>62</td>\n",
              "      <td>3798-3798</td>\n",
              "      <td>035G</td>\n",
              "    </tr>\n",
              "    <tr>\n",
              "      <th>1</th>\n",
              "      <td>42</td>\n",
              "      <td>3794-3798</td>\n",
              "      <td>095G</td>\n",
              "    </tr>\n",
              "    <tr>\n",
              "      <th>2</th>\n",
              "      <td>41</td>\n",
              "      <td>3798-3798</td>\n",
              "      <td>1797</td>\n",
              "    </tr>\n",
              "    <tr>\n",
              "      <th>3</th>\n",
              "      <td>39</td>\n",
              "      <td>3798-3794</td>\n",
              "      <td>095G</td>\n",
              "    </tr>\n",
              "    <tr>\n",
              "      <th>4</th>\n",
              "      <td>36</td>\n",
              "      <td>4061-4061</td>\n",
              "      <td>126G</td>\n",
              "    </tr>\n",
              "  </tbody>\n",
              "</table>\n",
              "</div>"
            ],
            "text/plain": [
              "   num_trips      route bikeid\n",
              "0         62  3798-3798   035G\n",
              "1         42  3794-3798   095G\n",
              "2         41  3798-3798   1797\n",
              "3         39  3798-3794   095G\n",
              "4         36  4061-4061   126G"
            ]
          },
          "metadata": {},
          "execution_count": 70
        }
      ]
    },
    {
      "cell_type": "code",
      "metadata": {
        "colab": {
          "base_uri": "https://localhost:8080/",
          "height": 1000
        },
        "id": "ST0HIZMxxxIW",
        "outputId": "bea2c1ff-c14f-43ae-f926-8981c612d880"
      },
      "source": [
        "#Now we can see if the routes of high usage bikes and  are different from low\n",
        "#we are going to use pandas to see if a route is included in both th\n",
        "high_routes_df['in_low'] = high_routes_df.isin(low_routes_df['route'])['route']\n",
        "high_routes_df"
      ],
      "execution_count": 71,
      "outputs": [
        {
          "output_type": "execute_result",
          "data": {
            "text/html": [
              "<div>\n",
              "<style scoped>\n",
              "    .dataframe tbody tr th:only-of-type {\n",
              "        vertical-align: middle;\n",
              "    }\n",
              "\n",
              "    .dataframe tbody tr th {\n",
              "        vertical-align: top;\n",
              "    }\n",
              "\n",
              "    .dataframe thead th {\n",
              "        text-align: right;\n",
              "    }\n",
              "</style>\n",
              "<table border=\"1\" class=\"dataframe\">\n",
              "  <thead>\n",
              "    <tr style=\"text-align: right;\">\n",
              "      <th></th>\n",
              "      <th>num_trips</th>\n",
              "      <th>route</th>\n",
              "      <th>bikeid</th>\n",
              "      <th>in_low</th>\n",
              "    </tr>\n",
              "  </thead>\n",
              "  <tbody>\n",
              "    <tr>\n",
              "      <th>0</th>\n",
              "      <td>325</td>\n",
              "      <td>3798-3798</td>\n",
              "      <td>853</td>\n",
              "      <td>True</td>\n",
              "    </tr>\n",
              "    <tr>\n",
              "      <th>1</th>\n",
              "      <td>170</td>\n",
              "      <td>3798-3798</td>\n",
              "      <td>937</td>\n",
              "      <td>False</td>\n",
              "    </tr>\n",
              "    <tr>\n",
              "      <th>2</th>\n",
              "      <td>166</td>\n",
              "      <td>3798-3798</td>\n",
              "      <td>559</td>\n",
              "      <td>True</td>\n",
              "    </tr>\n",
              "    <tr>\n",
              "      <th>3</th>\n",
              "      <td>95</td>\n",
              "      <td>2562-2562</td>\n",
              "      <td>774</td>\n",
              "      <td>False</td>\n",
              "    </tr>\n",
              "    <tr>\n",
              "      <th>4</th>\n",
              "      <td>80</td>\n",
              "      <td>3793-3793</td>\n",
              "      <td>621</td>\n",
              "      <td>False</td>\n",
              "    </tr>\n",
              "    <tr>\n",
              "      <th>5</th>\n",
              "      <td>67</td>\n",
              "      <td>2575-2575</td>\n",
              "      <td>898</td>\n",
              "      <td>False</td>\n",
              "    </tr>\n",
              "    <tr>\n",
              "      <th>6</th>\n",
              "      <td>65</td>\n",
              "      <td>3797-3797</td>\n",
              "      <td>869</td>\n",
              "      <td>False</td>\n",
              "    </tr>\n",
              "    <tr>\n",
              "      <th>7</th>\n",
              "      <td>63</td>\n",
              "      <td>3798-3798</td>\n",
              "      <td>453</td>\n",
              "      <td>False</td>\n",
              "    </tr>\n",
              "    <tr>\n",
              "      <th>8</th>\n",
              "      <td>59</td>\n",
              "      <td>3798-3794</td>\n",
              "      <td>88</td>\n",
              "      <td>True</td>\n",
              "    </tr>\n",
              "    <tr>\n",
              "      <th>9</th>\n",
              "      <td>57</td>\n",
              "      <td>3798-3798</td>\n",
              "      <td>288</td>\n",
              "      <td>False</td>\n",
              "    </tr>\n",
              "    <tr>\n",
              "      <th>10</th>\n",
              "      <td>56</td>\n",
              "      <td>2575-2575</td>\n",
              "      <td>895</td>\n",
              "      <td>False</td>\n",
              "    </tr>\n",
              "    <tr>\n",
              "      <th>11</th>\n",
              "      <td>56</td>\n",
              "      <td>3798-3798</td>\n",
              "      <td>472</td>\n",
              "      <td>False</td>\n",
              "    </tr>\n",
              "    <tr>\n",
              "      <th>12</th>\n",
              "      <td>56</td>\n",
              "      <td>2575-2575</td>\n",
              "      <td>998</td>\n",
              "      <td>False</td>\n",
              "    </tr>\n",
              "    <tr>\n",
              "      <th>13</th>\n",
              "      <td>56</td>\n",
              "      <td>3798-3798</td>\n",
              "      <td>341</td>\n",
              "      <td>False</td>\n",
              "    </tr>\n",
              "    <tr>\n",
              "      <th>14</th>\n",
              "      <td>55</td>\n",
              "      <td>3799-3799</td>\n",
              "      <td>855</td>\n",
              "      <td>False</td>\n",
              "    </tr>\n",
              "    <tr>\n",
              "      <th>15</th>\n",
              "      <td>55</td>\n",
              "      <td>2575-2575</td>\n",
              "      <td>745</td>\n",
              "      <td>False</td>\n",
              "    </tr>\n",
              "    <tr>\n",
              "      <th>16</th>\n",
              "      <td>54</td>\n",
              "      <td>2575-2575</td>\n",
              "      <td>540</td>\n",
              "      <td>False</td>\n",
              "    </tr>\n",
              "    <tr>\n",
              "      <th>17</th>\n",
              "      <td>53</td>\n",
              "      <td>3798-3798</td>\n",
              "      <td>349</td>\n",
              "      <td>False</td>\n",
              "    </tr>\n",
              "    <tr>\n",
              "      <th>18</th>\n",
              "      <td>53</td>\n",
              "      <td>3798-3798</td>\n",
              "      <td>882</td>\n",
              "      <td>False</td>\n",
              "    </tr>\n",
              "    <tr>\n",
              "      <th>19</th>\n",
              "      <td>52</td>\n",
              "      <td>2575-2575</td>\n",
              "      <td>503</td>\n",
              "      <td>False</td>\n",
              "    </tr>\n",
              "    <tr>\n",
              "      <th>20</th>\n",
              "      <td>52</td>\n",
              "      <td>2575-2575</td>\n",
              "      <td>975</td>\n",
              "      <td>False</td>\n",
              "    </tr>\n",
              "    <tr>\n",
              "      <th>21</th>\n",
              "      <td>52</td>\n",
              "      <td>3798-3794</td>\n",
              "      <td>198</td>\n",
              "      <td>False</td>\n",
              "    </tr>\n",
              "    <tr>\n",
              "      <th>22</th>\n",
              "      <td>52</td>\n",
              "      <td>3794-3798</td>\n",
              "      <td>88</td>\n",
              "      <td>True</td>\n",
              "    </tr>\n",
              "    <tr>\n",
              "      <th>23</th>\n",
              "      <td>52</td>\n",
              "      <td>2575-2575</td>\n",
              "      <td>133</td>\n",
              "      <td>False</td>\n",
              "    </tr>\n",
              "    <tr>\n",
              "      <th>24</th>\n",
              "      <td>52</td>\n",
              "      <td>3798-3798</td>\n",
              "      <td>14</td>\n",
              "      <td>False</td>\n",
              "    </tr>\n",
              "    <tr>\n",
              "      <th>25</th>\n",
              "      <td>51</td>\n",
              "      <td>3377-3377</td>\n",
              "      <td>664</td>\n",
              "      <td>False</td>\n",
              "    </tr>\n",
              "    <tr>\n",
              "      <th>26</th>\n",
              "      <td>51</td>\n",
              "      <td>2575-2575</td>\n",
              "      <td>321</td>\n",
              "      <td>False</td>\n",
              "    </tr>\n",
              "    <tr>\n",
              "      <th>27</th>\n",
              "      <td>51</td>\n",
              "      <td>2575-2575</td>\n",
              "      <td>281</td>\n",
              "      <td>False</td>\n",
              "    </tr>\n",
              "    <tr>\n",
              "      <th>28</th>\n",
              "      <td>51</td>\n",
              "      <td>3798-3798</td>\n",
              "      <td>440</td>\n",
              "      <td>False</td>\n",
              "    </tr>\n",
              "    <tr>\n",
              "      <th>29</th>\n",
              "      <td>51</td>\n",
              "      <td>2575-2575</td>\n",
              "      <td>432</td>\n",
              "      <td>False</td>\n",
              "    </tr>\n",
              "    <tr>\n",
              "      <th>30</th>\n",
              "      <td>50</td>\n",
              "      <td>2575-2575</td>\n",
              "      <td>647</td>\n",
              "      <td>False</td>\n",
              "    </tr>\n",
              "    <tr>\n",
              "      <th>31</th>\n",
              "      <td>50</td>\n",
              "      <td>2575-2575</td>\n",
              "      <td>356</td>\n",
              "      <td>False</td>\n",
              "    </tr>\n",
              "    <tr>\n",
              "      <th>32</th>\n",
              "      <td>50</td>\n",
              "      <td>3794-3798</td>\n",
              "      <td>22</td>\n",
              "      <td>True</td>\n",
              "    </tr>\n",
              "    <tr>\n",
              "      <th>33</th>\n",
              "      <td>50</td>\n",
              "      <td>2575-2575</td>\n",
              "      <td>302</td>\n",
              "      <td>False</td>\n",
              "    </tr>\n",
              "    <tr>\n",
              "      <th>34</th>\n",
              "      <td>50</td>\n",
              "      <td>2575-2575</td>\n",
              "      <td>991</td>\n",
              "      <td>False</td>\n",
              "    </tr>\n",
              "    <tr>\n",
              "      <th>35</th>\n",
              "      <td>49</td>\n",
              "      <td>2575-2575</td>\n",
              "      <td>885</td>\n",
              "      <td>False</td>\n",
              "    </tr>\n",
              "    <tr>\n",
              "      <th>36</th>\n",
              "      <td>49</td>\n",
              "      <td>2575-2575</td>\n",
              "      <td>865</td>\n",
              "      <td>False</td>\n",
              "    </tr>\n",
              "    <tr>\n",
              "      <th>37</th>\n",
              "      <td>48</td>\n",
              "      <td>2575-2575</td>\n",
              "      <td>301</td>\n",
              "      <td>False</td>\n",
              "    </tr>\n",
              "    <tr>\n",
              "      <th>38</th>\n",
              "      <td>48</td>\n",
              "      <td>2575-2575</td>\n",
              "      <td>523</td>\n",
              "      <td>False</td>\n",
              "    </tr>\n",
              "    <tr>\n",
              "      <th>39</th>\n",
              "      <td>48</td>\n",
              "      <td>3798-3798</td>\n",
              "      <td>347</td>\n",
              "      <td>False</td>\n",
              "    </tr>\n",
              "    <tr>\n",
              "      <th>40</th>\n",
              "      <td>48</td>\n",
              "      <td>2575-2575</td>\n",
              "      <td>75</td>\n",
              "      <td>False</td>\n",
              "    </tr>\n",
              "    <tr>\n",
              "      <th>41</th>\n",
              "      <td>48</td>\n",
              "      <td>2575-2575</td>\n",
              "      <td>930</td>\n",
              "      <td>False</td>\n",
              "    </tr>\n",
              "    <tr>\n",
              "      <th>42</th>\n",
              "      <td>48</td>\n",
              "      <td>2575-2575</td>\n",
              "      <td>406</td>\n",
              "      <td>False</td>\n",
              "    </tr>\n",
              "    <tr>\n",
              "      <th>43</th>\n",
              "      <td>47</td>\n",
              "      <td>2575-2575</td>\n",
              "      <td>867</td>\n",
              "      <td>False</td>\n",
              "    </tr>\n",
              "    <tr>\n",
              "      <th>44</th>\n",
              "      <td>47</td>\n",
              "      <td>2575-2575</td>\n",
              "      <td>122</td>\n",
              "      <td>False</td>\n",
              "    </tr>\n",
              "    <tr>\n",
              "      <th>45</th>\n",
              "      <td>47</td>\n",
              "      <td>3798-3798</td>\n",
              "      <td>863</td>\n",
              "      <td>False</td>\n",
              "    </tr>\n",
              "    <tr>\n",
              "      <th>46</th>\n",
              "      <td>47</td>\n",
              "      <td>2575-2575</td>\n",
              "      <td>117</td>\n",
              "      <td>False</td>\n",
              "    </tr>\n",
              "    <tr>\n",
              "      <th>47</th>\n",
              "      <td>47</td>\n",
              "      <td>3798-3794</td>\n",
              "      <td>356</td>\n",
              "      <td>True</td>\n",
              "    </tr>\n",
              "    <tr>\n",
              "      <th>48</th>\n",
              "      <td>47</td>\n",
              "      <td>3795-3798</td>\n",
              "      <td>882</td>\n",
              "      <td>False</td>\n",
              "    </tr>\n",
              "    <tr>\n",
              "      <th>49</th>\n",
              "      <td>46</td>\n",
              "      <td>2575-2575</td>\n",
              "      <td>135</td>\n",
              "      <td>False</td>\n",
              "    </tr>\n",
              "  </tbody>\n",
              "</table>\n",
              "</div>"
            ],
            "text/plain": [
              "    num_trips      route bikeid  in_low\n",
              "0         325  3798-3798    853    True\n",
              "1         170  3798-3798    937   False\n",
              "2         166  3798-3798    559    True\n",
              "3          95  2562-2562    774   False\n",
              "4          80  3793-3793    621   False\n",
              "5          67  2575-2575    898   False\n",
              "6          65  3797-3797    869   False\n",
              "7          63  3798-3798    453   False\n",
              "8          59  3798-3794     88    True\n",
              "9          57  3798-3798    288   False\n",
              "10         56  2575-2575    895   False\n",
              "11         56  3798-3798    472   False\n",
              "12         56  2575-2575    998   False\n",
              "13         56  3798-3798    341   False\n",
              "14         55  3799-3799    855   False\n",
              "15         55  2575-2575    745   False\n",
              "16         54  2575-2575    540   False\n",
              "17         53  3798-3798    349   False\n",
              "18         53  3798-3798    882   False\n",
              "19         52  2575-2575    503   False\n",
              "20         52  2575-2575    975   False\n",
              "21         52  3798-3794    198   False\n",
              "22         52  3794-3798     88    True\n",
              "23         52  2575-2575    133   False\n",
              "24         52  3798-3798     14   False\n",
              "25         51  3377-3377    664   False\n",
              "26         51  2575-2575    321   False\n",
              "27         51  2575-2575    281   False\n",
              "28         51  3798-3798    440   False\n",
              "29         51  2575-2575    432   False\n",
              "30         50  2575-2575    647   False\n",
              "31         50  2575-2575    356   False\n",
              "32         50  3794-3798     22    True\n",
              "33         50  2575-2575    302   False\n",
              "34         50  2575-2575    991   False\n",
              "35         49  2575-2575    885   False\n",
              "36         49  2575-2575    865   False\n",
              "37         48  2575-2575    301   False\n",
              "38         48  2575-2575    523   False\n",
              "39         48  3798-3798    347   False\n",
              "40         48  2575-2575     75   False\n",
              "41         48  2575-2575    930   False\n",
              "42         48  2575-2575    406   False\n",
              "43         47  2575-2575    867   False\n",
              "44         47  2575-2575    122   False\n",
              "45         47  3798-3798    863   False\n",
              "46         47  2575-2575    117   False\n",
              "47         47  3798-3794    356    True\n",
              "48         47  3795-3798    882   False\n",
              "49         46  2575-2575    135   False"
            ]
          },
          "metadata": {},
          "execution_count": 71
        }
      ]
    },
    {
      "cell_type": "code",
      "metadata": {
        "colab": {
          "base_uri": "https://localhost:8080/",
          "height": 1000
        },
        "id": "MFGxodgSzmVM",
        "outputId": "437cdf26-fffb-4a01-f08b-4ebcfb59be81"
      },
      "source": [
        "medium_routes_df['in_low'] = medium_routes_df.isin(low_routes_df['route'])['route']\n",
        "medium_routes_df"
      ],
      "execution_count": 72,
      "outputs": [
        {
          "output_type": "execute_result",
          "data": {
            "text/html": [
              "<div>\n",
              "<style scoped>\n",
              "    .dataframe tbody tr th:only-of-type {\n",
              "        vertical-align: middle;\n",
              "    }\n",
              "\n",
              "    .dataframe tbody tr th {\n",
              "        vertical-align: top;\n",
              "    }\n",
              "\n",
              "    .dataframe thead th {\n",
              "        text-align: right;\n",
              "    }\n",
              "</style>\n",
              "<table border=\"1\" class=\"dataframe\">\n",
              "  <thead>\n",
              "    <tr style=\"text-align: right;\">\n",
              "      <th></th>\n",
              "      <th>num_trips</th>\n",
              "      <th>route</th>\n",
              "      <th>bikeid</th>\n",
              "      <th>in_low</th>\n",
              "    </tr>\n",
              "  </thead>\n",
              "  <tbody>\n",
              "    <tr>\n",
              "      <th>0</th>\n",
              "      <td>234</td>\n",
              "      <td>3798-3798</td>\n",
              "      <td>2351</td>\n",
              "      <td>True</td>\n",
              "    </tr>\n",
              "    <tr>\n",
              "      <th>1</th>\n",
              "      <td>101</td>\n",
              "      <td>3798-3798</td>\n",
              "      <td>1585</td>\n",
              "      <td>False</td>\n",
              "    </tr>\n",
              "    <tr>\n",
              "      <th>2</th>\n",
              "      <td>88</td>\n",
              "      <td>3798-3798</td>\n",
              "      <td>2277</td>\n",
              "      <td>True</td>\n",
              "    </tr>\n",
              "    <tr>\n",
              "      <th>3</th>\n",
              "      <td>84</td>\n",
              "      <td>3798-3798</td>\n",
              "      <td>1927</td>\n",
              "      <td>False</td>\n",
              "    </tr>\n",
              "    <tr>\n",
              "      <th>4</th>\n",
              "      <td>79</td>\n",
              "      <td>3838-3838</td>\n",
              "      <td>280</td>\n",
              "      <td>False</td>\n",
              "    </tr>\n",
              "    <tr>\n",
              "      <th>5</th>\n",
              "      <td>77</td>\n",
              "      <td>3798-3798</td>\n",
              "      <td>2887</td>\n",
              "      <td>False</td>\n",
              "    </tr>\n",
              "    <tr>\n",
              "      <th>6</th>\n",
              "      <td>74</td>\n",
              "      <td>3798-3798</td>\n",
              "      <td>1434</td>\n",
              "      <td>False</td>\n",
              "    </tr>\n",
              "    <tr>\n",
              "      <th>7</th>\n",
              "      <td>73</td>\n",
              "      <td>3798-3798</td>\n",
              "      <td>174</td>\n",
              "      <td>False</td>\n",
              "    </tr>\n",
              "    <tr>\n",
              "      <th>8</th>\n",
              "      <td>63</td>\n",
              "      <td>3798-3794</td>\n",
              "      <td>1277</td>\n",
              "      <td>True</td>\n",
              "    </tr>\n",
              "    <tr>\n",
              "      <th>9</th>\n",
              "      <td>60</td>\n",
              "      <td>3798-3798</td>\n",
              "      <td>1786</td>\n",
              "      <td>False</td>\n",
              "    </tr>\n",
              "    <tr>\n",
              "      <th>10</th>\n",
              "      <td>59</td>\n",
              "      <td>3798-3798</td>\n",
              "      <td>3541</td>\n",
              "      <td>False</td>\n",
              "    </tr>\n",
              "    <tr>\n",
              "      <th>11</th>\n",
              "      <td>58</td>\n",
              "      <td>3798-3798</td>\n",
              "      <td>1586</td>\n",
              "      <td>False</td>\n",
              "    </tr>\n",
              "    <tr>\n",
              "      <th>12</th>\n",
              "      <td>56</td>\n",
              "      <td>3798-3798</td>\n",
              "      <td>377</td>\n",
              "      <td>False</td>\n",
              "    </tr>\n",
              "    <tr>\n",
              "      <th>13</th>\n",
              "      <td>55</td>\n",
              "      <td>3798-3794</td>\n",
              "      <td>1586</td>\n",
              "      <td>False</td>\n",
              "    </tr>\n",
              "    <tr>\n",
              "      <th>14</th>\n",
              "      <td>55</td>\n",
              "      <td>3794-3798</td>\n",
              "      <td>1277</td>\n",
              "      <td>False</td>\n",
              "    </tr>\n",
              "    <tr>\n",
              "      <th>15</th>\n",
              "      <td>55</td>\n",
              "      <td>3798-3798</td>\n",
              "      <td>1558</td>\n",
              "      <td>False</td>\n",
              "    </tr>\n",
              "    <tr>\n",
              "      <th>16</th>\n",
              "      <td>54</td>\n",
              "      <td>3798-3798</td>\n",
              "      <td>2283</td>\n",
              "      <td>False</td>\n",
              "    </tr>\n",
              "    <tr>\n",
              "      <th>17</th>\n",
              "      <td>54</td>\n",
              "      <td>3798-3798</td>\n",
              "      <td>2097</td>\n",
              "      <td>False</td>\n",
              "    </tr>\n",
              "    <tr>\n",
              "      <th>18</th>\n",
              "      <td>54</td>\n",
              "      <td>3798-3798</td>\n",
              "      <td>627</td>\n",
              "      <td>False</td>\n",
              "    </tr>\n",
              "    <tr>\n",
              "      <th>19</th>\n",
              "      <td>54</td>\n",
              "      <td>3798-3795</td>\n",
              "      <td>1475</td>\n",
              "      <td>False</td>\n",
              "    </tr>\n",
              "    <tr>\n",
              "      <th>20</th>\n",
              "      <td>53</td>\n",
              "      <td>3794-3798</td>\n",
              "      <td>1851</td>\n",
              "      <td>False</td>\n",
              "    </tr>\n",
              "    <tr>\n",
              "      <th>21</th>\n",
              "      <td>53</td>\n",
              "      <td>3798-3794</td>\n",
              "      <td>1704</td>\n",
              "      <td>False</td>\n",
              "    </tr>\n",
              "    <tr>\n",
              "      <th>22</th>\n",
              "      <td>53</td>\n",
              "      <td>3798-3798</td>\n",
              "      <td>278</td>\n",
              "      <td>False</td>\n",
              "    </tr>\n",
              "    <tr>\n",
              "      <th>23</th>\n",
              "      <td>53</td>\n",
              "      <td>3798-3798</td>\n",
              "      <td>376</td>\n",
              "      <td>False</td>\n",
              "    </tr>\n",
              "    <tr>\n",
              "      <th>24</th>\n",
              "      <td>52</td>\n",
              "      <td>3798-3798</td>\n",
              "      <td>23</td>\n",
              "      <td>False</td>\n",
              "    </tr>\n",
              "    <tr>\n",
              "      <th>25</th>\n",
              "      <td>52</td>\n",
              "      <td>3798-3794</td>\n",
              "      <td>377</td>\n",
              "      <td>False</td>\n",
              "    </tr>\n",
              "    <tr>\n",
              "      <th>26</th>\n",
              "      <td>52</td>\n",
              "      <td>3798-3794</td>\n",
              "      <td>1524</td>\n",
              "      <td>True</td>\n",
              "    </tr>\n",
              "    <tr>\n",
              "      <th>27</th>\n",
              "      <td>51</td>\n",
              "      <td>3798-3798</td>\n",
              "      <td>1475</td>\n",
              "      <td>False</td>\n",
              "    </tr>\n",
              "    <tr>\n",
              "      <th>28</th>\n",
              "      <td>50</td>\n",
              "      <td>3798-3798</td>\n",
              "      <td>180</td>\n",
              "      <td>False</td>\n",
              "    </tr>\n",
              "    <tr>\n",
              "      <th>29</th>\n",
              "      <td>50</td>\n",
              "      <td>3798-3798</td>\n",
              "      <td>1851</td>\n",
              "      <td>False</td>\n",
              "    </tr>\n",
              "    <tr>\n",
              "      <th>30</th>\n",
              "      <td>49</td>\n",
              "      <td>3798-3798</td>\n",
              "      <td>2326</td>\n",
              "      <td>False</td>\n",
              "    </tr>\n",
              "    <tr>\n",
              "      <th>31</th>\n",
              "      <td>49</td>\n",
              "      <td>2575-2575</td>\n",
              "      <td>789</td>\n",
              "      <td>False</td>\n",
              "    </tr>\n",
              "    <tr>\n",
              "      <th>32</th>\n",
              "      <td>49</td>\n",
              "      <td>3798-3794</td>\n",
              "      <td>2722</td>\n",
              "      <td>False</td>\n",
              "    </tr>\n",
              "    <tr>\n",
              "      <th>33</th>\n",
              "      <td>49</td>\n",
              "      <td>3798-3794</td>\n",
              "      <td>1851</td>\n",
              "      <td>False</td>\n",
              "    </tr>\n",
              "    <tr>\n",
              "      <th>34</th>\n",
              "      <td>48</td>\n",
              "      <td>3798-3798</td>\n",
              "      <td>1704</td>\n",
              "      <td>False</td>\n",
              "    </tr>\n",
              "    <tr>\n",
              "      <th>35</th>\n",
              "      <td>48</td>\n",
              "      <td>3794-3798</td>\n",
              "      <td>2242</td>\n",
              "      <td>False</td>\n",
              "    </tr>\n",
              "    <tr>\n",
              "      <th>36</th>\n",
              "      <td>48</td>\n",
              "      <td>3794-3798</td>\n",
              "      <td>1524</td>\n",
              "      <td>False</td>\n",
              "    </tr>\n",
              "    <tr>\n",
              "      <th>37</th>\n",
              "      <td>48</td>\n",
              "      <td>3798-3798</td>\n",
              "      <td>2197</td>\n",
              "      <td>False</td>\n",
              "    </tr>\n",
              "    <tr>\n",
              "      <th>38</th>\n",
              "      <td>47</td>\n",
              "      <td>3794-3798</td>\n",
              "      <td>1704</td>\n",
              "      <td>False</td>\n",
              "    </tr>\n",
              "    <tr>\n",
              "      <th>39</th>\n",
              "      <td>47</td>\n",
              "      <td>3794-3798</td>\n",
              "      <td>377</td>\n",
              "      <td>False</td>\n",
              "    </tr>\n",
              "    <tr>\n",
              "      <th>40</th>\n",
              "      <td>47</td>\n",
              "      <td>3798-3798</td>\n",
              "      <td>123</td>\n",
              "      <td>False</td>\n",
              "    </tr>\n",
              "    <tr>\n",
              "      <th>41</th>\n",
              "      <td>46</td>\n",
              "      <td>3798-3794</td>\n",
              "      <td>1895</td>\n",
              "      <td>False</td>\n",
              "    </tr>\n",
              "    <tr>\n",
              "      <th>42</th>\n",
              "      <td>46</td>\n",
              "      <td>3798-3794</td>\n",
              "      <td>2077</td>\n",
              "      <td>False</td>\n",
              "    </tr>\n",
              "    <tr>\n",
              "      <th>43</th>\n",
              "      <td>46</td>\n",
              "      <td>3794-3798</td>\n",
              "      <td>343</td>\n",
              "      <td>True</td>\n",
              "    </tr>\n",
              "    <tr>\n",
              "      <th>44</th>\n",
              "      <td>46</td>\n",
              "      <td>3798-3798</td>\n",
              "      <td>1517</td>\n",
              "      <td>False</td>\n",
              "    </tr>\n",
              "    <tr>\n",
              "      <th>45</th>\n",
              "      <td>46</td>\n",
              "      <td>3798-3798</td>\n",
              "      <td>1703</td>\n",
              "      <td>False</td>\n",
              "    </tr>\n",
              "    <tr>\n",
              "      <th>46</th>\n",
              "      <td>46</td>\n",
              "      <td>3798-3798</td>\n",
              "      <td>1967</td>\n",
              "      <td>False</td>\n",
              "    </tr>\n",
              "    <tr>\n",
              "      <th>47</th>\n",
              "      <td>46</td>\n",
              "      <td>3798-3798</td>\n",
              "      <td>965</td>\n",
              "      <td>False</td>\n",
              "    </tr>\n",
              "    <tr>\n",
              "      <th>48</th>\n",
              "      <td>46</td>\n",
              "      <td>3794-3798</td>\n",
              "      <td>2274</td>\n",
              "      <td>False</td>\n",
              "    </tr>\n",
              "    <tr>\n",
              "      <th>49</th>\n",
              "      <td>45</td>\n",
              "      <td>3794-3798</td>\n",
              "      <td>1517</td>\n",
              "      <td>True</td>\n",
              "    </tr>\n",
              "  </tbody>\n",
              "</table>\n",
              "</div>"
            ],
            "text/plain": [
              "    num_trips      route bikeid  in_low\n",
              "0         234  3798-3798   2351    True\n",
              "1         101  3798-3798   1585   False\n",
              "2          88  3798-3798   2277    True\n",
              "3          84  3798-3798   1927   False\n",
              "4          79  3838-3838    280   False\n",
              "5          77  3798-3798   2887   False\n",
              "6          74  3798-3798   1434   False\n",
              "7          73  3798-3798    174   False\n",
              "8          63  3798-3794   1277    True\n",
              "9          60  3798-3798   1786   False\n",
              "10         59  3798-3798   3541   False\n",
              "11         58  3798-3798   1586   False\n",
              "12         56  3798-3798    377   False\n",
              "13         55  3798-3794   1586   False\n",
              "14         55  3794-3798   1277   False\n",
              "15         55  3798-3798   1558   False\n",
              "16         54  3798-3798   2283   False\n",
              "17         54  3798-3798   2097   False\n",
              "18         54  3798-3798    627   False\n",
              "19         54  3798-3795   1475   False\n",
              "20         53  3794-3798   1851   False\n",
              "21         53  3798-3794   1704   False\n",
              "22         53  3798-3798    278   False\n",
              "23         53  3798-3798    376   False\n",
              "24         52  3798-3798     23   False\n",
              "25         52  3798-3794    377   False\n",
              "26         52  3798-3794   1524    True\n",
              "27         51  3798-3798   1475   False\n",
              "28         50  3798-3798    180   False\n",
              "29         50  3798-3798   1851   False\n",
              "30         49  3798-3798   2326   False\n",
              "31         49  2575-2575    789   False\n",
              "32         49  3798-3794   2722   False\n",
              "33         49  3798-3794   1851   False\n",
              "34         48  3798-3798   1704   False\n",
              "35         48  3794-3798   2242   False\n",
              "36         48  3794-3798   1524   False\n",
              "37         48  3798-3798   2197   False\n",
              "38         47  3794-3798   1704   False\n",
              "39         47  3794-3798    377   False\n",
              "40         47  3798-3798    123   False\n",
              "41         46  3798-3794   1895   False\n",
              "42         46  3798-3794   2077   False\n",
              "43         46  3794-3798    343    True\n",
              "44         46  3798-3798   1517   False\n",
              "45         46  3798-3798   1703   False\n",
              "46         46  3798-3798   1967   False\n",
              "47         46  3798-3798    965   False\n",
              "48         46  3794-3798   2274   False\n",
              "49         45  3794-3798   1517    True"
            ]
          },
          "metadata": {},
          "execution_count": 72
        }
      ]
    },
    {
      "cell_type": "code",
      "metadata": {
        "colab": {
          "base_uri": "https://localhost:8080/"
        },
        "id": "dhesP4FJzyVo",
        "outputId": "d931afcf-839d-4068-9cb7-7df138bbb6f5"
      },
      "source": [
        "percentage_in_high = int(round(high_routes_df['in_low'].value_counts()[1]/high_routes_df['in_low'].value_counts()[0],2)*100)\n",
        "percentage_in_medium = int(round(medium_routes_df['in_low'].value_counts()[1]/medium_routes_df['in_low'].value_counts()[0],2)*100)\n",
        "print(f\"Percentage of top 50 low usage routes in high usage routes: {percentage_in_high}%\")\n",
        "print(f\"Percentage of top 50 low usage routes in medium usage routes: {percentage_in_medium}%\")"
      ],
      "execution_count": 73,
      "outputs": [
        {
          "output_type": "stream",
          "name": "stdout",
          "text": [
            "Percentage of top 50 low usage routes in high usage routes: 14%\n",
            "Percentage of top 50 low usage routes in medium usage routes: 14%\n"
          ]
        }
      ]
    },
    {
      "cell_type": "markdown",
      "metadata": {
        "id": "nzS2CGJv0sj2"
      },
      "source": [
        "So there is definietly some difference in which routes are being taken by the high and medium usage bikes, compared to the low usage bikes. What about between the high and medium?"
      ]
    },
    {
      "cell_type": "code",
      "metadata": {
        "colab": {
          "base_uri": "https://localhost:8080/"
        },
        "id": "nPWkxh9G03gS",
        "outputId": "764b72bb-2199-4684-8c71-4576ac0d2400"
      },
      "source": [
        "high_routes_df['in_medium'] = high_routes_df.isin(medium_routes_df['route'])['route']\n",
        "percentage_in_high_medium = int(round(high_routes_df['in_medium'].value_counts()[1]/high_routes_df['in_medium'].value_counts()[0],2)*100)\n",
        "print(f\"Percentage of top 50 low usage routes in high usage routes: {percentage_in_high_medium}%\")"
      ],
      "execution_count": 74,
      "outputs": [
        {
          "output_type": "stream",
          "name": "stdout",
          "text": [
            "Percentage of top 50 low usage routes in high usage routes: 39%\n"
          ]
        }
      ]
    },
    {
      "cell_type": "markdown",
      "metadata": {
        "id": "CB3owDtnG2Rw"
      },
      "source": [
        "That means that there is more correlation between the high and medium usage bikes, than the low, but even here there is a difference.\n",
        "Thus, we can assure that the high, medium and low usage bikes are located at mainly different parts of Austin. We could dive even further into this, but instead let's see if we can we find some understanding of short time users (we'll call these customers) and long time users (subcribers).\n",
        "\n",
        "Let's what different users we have:"
      ]
    },
    {
      "cell_type": "code",
      "metadata": {
        "colab": {
          "base_uri": "https://localhost:8080/",
          "height": 419
        },
        "id": "MvtD78ttHdfi",
        "outputId": "e533feaf-4ecc-45fc-fdd6-0b88e68b9dd3"
      },
      "source": [
        "q7 = \"\"\"\n",
        "  SELECT DISTINCT\n",
        "    subscriber_type\n",
        "  FROM `bigquery-public-data.austin_bikeshare.bikeshare_trips`\n",
        "  GROUP By subscriber_type\n",
        "\"\"\"\n",
        "sub_type_df = query_to_dataframe(q7)\n",
        "sub_type_df"
      ],
      "execution_count": 75,
      "outputs": [
        {
          "output_type": "execute_result",
          "data": {
            "text/html": [
              "<div>\n",
              "<style scoped>\n",
              "    .dataframe tbody tr th:only-of-type {\n",
              "        vertical-align: middle;\n",
              "    }\n",
              "\n",
              "    .dataframe tbody tr th {\n",
              "        vertical-align: top;\n",
              "    }\n",
              "\n",
              "    .dataframe thead th {\n",
              "        text-align: right;\n",
              "    }\n",
              "</style>\n",
              "<table border=\"1\" class=\"dataframe\">\n",
              "  <thead>\n",
              "    <tr style=\"text-align: right;\">\n",
              "      <th></th>\n",
              "      <th>subscriber_type</th>\n",
              "    </tr>\n",
              "  </thead>\n",
              "  <tbody>\n",
              "    <tr>\n",
              "      <th>0</th>\n",
              "      <td>Walk Up</td>\n",
              "    </tr>\n",
              "    <tr>\n",
              "      <th>1</th>\n",
              "      <td>24-Hour Kiosk (Austin B-cycle)</td>\n",
              "    </tr>\n",
              "    <tr>\n",
              "      <th>2</th>\n",
              "      <td>Annual Membership (Austin B-cycle)</td>\n",
              "    </tr>\n",
              "    <tr>\n",
              "      <th>3</th>\n",
              "      <td>Founding Member (Austin B-cycle)</td>\n",
              "    </tr>\n",
              "    <tr>\n",
              "      <th>4</th>\n",
              "      <td>Local365</td>\n",
              "    </tr>\n",
              "    <tr>\n",
              "      <th>...</th>\n",
              "      <td>...</td>\n",
              "    </tr>\n",
              "    <tr>\n",
              "      <th>72</th>\n",
              "      <td>Local365 Youth (age 13-17 riders)- 1/2 off Spe...</td>\n",
              "    </tr>\n",
              "    <tr>\n",
              "      <th>73</th>\n",
              "      <td>PROHIBITED</td>\n",
              "    </tr>\n",
              "    <tr>\n",
              "      <th>74</th>\n",
              "      <td>RESTRICTED</td>\n",
              "    </tr>\n",
              "    <tr>\n",
              "      <th>75</th>\n",
              "      <td>Annual (Omaha B-cycle)</td>\n",
              "    </tr>\n",
              "    <tr>\n",
              "      <th>76</th>\n",
              "      <td>Heartland Pass (Monthly Pay)</td>\n",
              "    </tr>\n",
              "  </tbody>\n",
              "</table>\n",
              "<p>77 rows × 1 columns</p>\n",
              "</div>"
            ],
            "text/plain": [
              "                                      subscriber_type\n",
              "0                                             Walk Up\n",
              "1                      24-Hour Kiosk (Austin B-cycle)\n",
              "2                  Annual Membership (Austin B-cycle)\n",
              "3                    Founding Member (Austin B-cycle)\n",
              "4                                            Local365\n",
              "..                                                ...\n",
              "72  Local365 Youth (age 13-17 riders)- 1/2 off Spe...\n",
              "73                                         PROHIBITED\n",
              "74                                         RESTRICTED\n",
              "75                             Annual (Omaha B-cycle)\n",
              "76                       Heartland Pass (Monthly Pay)\n",
              "\n",
              "[77 rows x 1 columns]"
            ]
          },
          "metadata": {},
          "execution_count": 75
        }
      ]
    },
    {
      "cell_type": "markdown",
      "metadata": {
        "id": "4T_1ZlEwIpQB"
      },
      "source": [
        "We have 77 unique types of membership/subscribers. For the purpose of this project, we are going to make it easy for us, and say that every type that continas the word \"annual\" is going to be a subscriber, and else a customer."
      ]
    },
    {
      "cell_type": "code",
      "metadata": {
        "id": "j7RY7XmNLEcY"
      },
      "source": [
        "q8 = \"\"\"\n",
        "  SELECT \n",
        "    COUNT(trip_id) AS num_trips,\n",
        "    EXTRACT(MONTH from start_time) AS trip_month,\n",
        "    CASE \n",
        "        WHEN subscriber_type LIKE '%Annual%' THEN 'subscriber'\n",
        "        WHEN subscriber_type LIKE '%Local%' THEN 'subscriber'\n",
        "        WHEN subscriber_type LIKE '%Semester%' THEN 'subscriber'\n",
        "        WHEN subscriber_type LIKE '%Student%' THEN 'subscriber'\n",
        "        WHEN subscriber_type LIKE '%Founding%' THEN 'subscriber'\n",
        "        ELSE 'customer'\n",
        "    END \n",
        "    AS sub_type\n",
        "  FROM `bigquery-public-data.austin_bikeshare.bikeshare_trips`\n",
        "  GROUP BY trip_month, sub_type \n",
        "  ORDER BY trip_month\n",
        "\"\"\"\n",
        "num_trips_users = query_to_dataframe(q8)"
      ],
      "execution_count": 99,
      "outputs": []
    },
    {
      "cell_type": "code",
      "metadata": {
        "colab": {
          "base_uri": "https://localhost:8080/",
          "height": 295
        },
        "id": "RXZrczokLcsv",
        "outputId": "18a6cd9d-f838-48d2-c58c-b38eb585e524"
      },
      "source": [
        "months = num_trips_users['trip_month'].unique().tolist()\n",
        "customer_trips = num_trips_users.loc[num_trips_users['sub_type'] == 'customer']['num_trips']\n",
        "subscriber_trips = num_trips_users.loc[num_trips_users['sub_type'] == 'subscriber']['num_trips']\n",
        "\n",
        "plt1, = plt.plot(months, customer_trips)\n",
        "plt2, = plt.plot(months, subscriber_trips)\n",
        "\n",
        "plt.legend((plt1,plt2), (\"Customers\",\"Subscribers\"))\n",
        "plt.title(\"Number of trips per month\")\n",
        "plt.xlabel(\"Month\")\n",
        "plt.ylabel(\"Number of trips\")\n",
        "plt.show()"
      ],
      "execution_count": 101,
      "outputs": [
        {
          "output_type": "display_data",
          "data": {
            "image/png": "[encoded data removed]",
            "text/plain": [
              "<Figure size 432x288 with 1 Axes>"
            ]
          },
          "metadata": {
            "needs_background": "light"
          }
        }
      ]
    },
    {
      "cell_type": "markdown",
      "metadata": {
        "id": "NnnWyoaTSwss"
      },
      "source": [
        "We can clearly see that there is something going on in March in Austin; during this time of the year, the number of trips for both groups are significantly higher than the rest of the year. May and October are also quite popular months, but during the summer and winter months, the usage drops."
      ]
    },
    {
      "cell_type": "code",
      "metadata": {
        "id": "maUNza9DRZVo"
      },
      "source": [
        "q9 = \"\"\"\n",
        "  SELECT \n",
        "    ROUND(AVG(duration_minutes),2) AS avg_dur,\n",
        "    EXTRACT(MONTH from start_time) AS trip_month,\n",
        "    CASE \n",
        "        WHEN subscriber_type LIKE '%Annual%' THEN 'subscriber'\n",
        "        WHEN subscriber_type LIKE '%Local%' THEN 'subscriber'\n",
        "        WHEN subscriber_type LIKE '%Semester%' THEN 'subscriber'\n",
        "        WHEN subscriber_type LIKE '%Student%' THEN 'subscriber'\n",
        "        WHEN subscriber_type LIKE '%Founding%' THEN 'subscriber'\n",
        "        ELSE 'customer'\n",
        "    END \n",
        "    AS sub_type\n",
        "  FROM `bigquery-public-data.austin_bikeshare.bikeshare_trips`\n",
        "  GROUP BY trip_month, sub_type \n",
        "  ORDER BY trip_month\n",
        "\"\"\"\n",
        "avg_dur_users = query_to_dataframe(q9)"
      ],
      "execution_count": 102,
      "outputs": []
    },
    {
      "cell_type": "code",
      "metadata": {
        "colab": {
          "base_uri": "https://localhost:8080/",
          "height": 295
        },
        "id": "TDVPQ2qTR1Go",
        "outputId": "b9f7bd2d-b1d3-4283-e7d7-a4dbba284d4d"
      },
      "source": [
        "customer_dur = avg_dur_users.loc[avg_dur_users['sub_type'] == 'customer']['avg_dur']\n",
        "subscriber_dur = avg_dur_users.loc[avg_dur_users['sub_type'] == 'subscriber']['avg_dur']\n",
        "\n",
        "plt1, = plt.plot(months, customer_dur)\n",
        "plt2, = plt.plot(months, subscriber_dur)\n",
        "\n",
        "plt.legend((plt1,plt2), (\"Customers\",\"Subscribers\"))\n",
        "plt.title(\"Average ride duration per month\")\n",
        "plt.xlabel(\"Month\")\n",
        "plt.ylabel(\"Average ride duration (minutes)\")\n",
        "plt.show()"
      ],
      "execution_count": 103,
      "outputs": [
        {
          "output_type": "display_data",
          "data": {
            "image/png": "[encoded data removed]",
            "text/plain": [
              "<Figure size 432x288 with 1 Axes>"
            ]
          },
          "metadata": {
            "needs_background": "light"
          }
        }
      ]
    },
    {
      "cell_type": "markdown",
      "metadata": {
        "id": "jqNqOfqvTXkt"
      },
      "source": [
        "On the other hand, the most popular month looking at number of trips, March, has the lowest average ride duration during the year. A thesis might be, that there are some events going on in Austin in March each year, perhaps downtown, where more people gather but don't travel very far. Would have to invesgate this further though, with external data, to confirm."
      ]
    },
    {
      "cell_type": "code",
      "metadata": {
        "id": "McYSo_yvSP-3"
      },
      "source": [
        "q10 = \"\"\"\n",
        "  SELECT \n",
        "    SUM(duration_minutes) AS tot_dur,\n",
        "    EXTRACT(MONTH from start_time) AS trip_month,\n",
        "    CASE \n",
        "        WHEN subscriber_type LIKE '%Annual%' THEN 'subscriber'\n",
        "        WHEN subscriber_type LIKE '%Local%' THEN 'subscriber'\n",
        "        WHEN subscriber_type LIKE '%Semester%' THEN 'subscriber'\n",
        "        WHEN subscriber_type LIKE '%Student%' THEN 'subscriber'\n",
        "        WHEN subscriber_type LIKE '%Founding%' THEN 'subscriber'\n",
        "        ELSE 'customer'\n",
        "    END \n",
        "    AS sub_type\n",
        "  FROM `bigquery-public-data.austin_bikeshare.bikeshare_trips`\n",
        "  GROUP BY trip_month, sub_type \n",
        "  ORDER BY trip_month\n",
        "\"\"\"\n",
        "culm_duration_df = query_to_dataframe(q10)"
      ],
      "execution_count": 108,
      "outputs": []
    },
    {
      "cell_type": "code",
      "metadata": {
        "colab": {
          "base_uri": "https://localhost:8080/",
          "height": 295
        },
        "id": "lslQmxphT5Ce",
        "outputId": "6c038a12-d03e-40f1-a3f6-7b7e3aa76db7"
      },
      "source": [
        "culm_customer_dur = culm_duration_df.loc[culm_duration_df['sub_type'] == 'customer']['tot_dur']\n",
        "cul_subscriber_dur = culm_duration_df.loc[culm_duration_df['sub_type'] == 'subscriber']['tot_dur']\n",
        "\n",
        "plt1, = plt.plot(months, culm_customer_dur.cumsum()/(60*24))\n",
        "plt2, = plt.plot(months, cul_subscriber_dur.cumsum()/(60*24))\n",
        "\n",
        "plt.legend((plt1,plt2), (\"Customers\",\"Subscribers\"))\n",
        "plt.title(\"Culmulative ride duration per month\")\n",
        "plt.xlabel(\"Month\")\n",
        "plt.ylabel(\"ulmulative ride duration (days)\")\n",
        "plt.show()"
      ],
      "execution_count": 115,
      "outputs": [
        {
          "output_type": "display_data",
          "data": {
            "image/png": "[encoded data removed]",
            "text/plain": [
              "<Figure size 432x288 with 1 Axes>"
            ]
          },
          "metadata": {
            "needs_background": "light"
          }
        }
      ]
    },
    {
      "cell_type": "markdown",
      "metadata": {
        "id": "URHH3_6lVjky"
      },
      "source": [
        "Last but not least, we can conclude that on a year, customers ride more than twice as much as subscribers. Both these groups expect quite linear trends per month, which can be helpful when trying to predict future usage and ride duration."
      ]
    }
  ]
}